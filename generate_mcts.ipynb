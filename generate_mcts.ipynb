{
  "nbformat": 4,
  "nbformat_minor": 0,
  "metadata": {
    "colab": {
      "provenance": []
    },
    "kernelspec": {
      "name": "python3",
      "display_name": "Python 3"
    },
    "language_info": {
      "name": "python"
    }
  },
  "cells": [
    {
      "cell_type": "code",
      "execution_count": 1,
      "metadata": {
        "id": "y-op3RboA4Ry"
      },
      "outputs": [],
      "source": [
        "import argparse\n",
        "import numpy as np\n",
        "\n",
        "from dlgo.encoders import get_encoder_by_name\n",
        "from dlgo import goboard\n",
        "from dlgo.mcts import mcts\n",
        "from dlgo.utils import print_board, print_move"
      ]
    },
    {
      "cell_type": "code",
      "source": [
        "def generate_game(board_size, rounds, max_moves, temperature):\n",
        "    '''Генератор игровых данных методом Монте-Карло'''\n",
        "    \n",
        "    #boards - закодированное состояние доски\n",
        "    #moves - закодированные ходы\n",
        "    boards, moves = [], []\n",
        "    \n",
        "    #инициализация кодировщика OnePlaneEncoder и размер доски\n",
        "    encoder = get_encoder_by_name('oneplane', board_size)\n",
        "    \n",
        "    #создание новой игры\n",
        "    game = goboard.GameState.new_game(board_size)\n",
        "    \n",
        "    #в качестве бота будет агент поиска по дереву методом Монте-Карло\n",
        "    #с указанием кол.раундов и температуры\n",
        "    bot = mcts.MCTSAgent(rounds, temperature)\n",
        "    \n",
        "    num_moves = 0\n",
        "    while not game.is_over():\n",
        "        print_board(game.board)\n",
        "        move = bot.select_move(game) #след.ход выбирается ботом\n",
        "        if move.is_play:\n",
        "            #закодированные данные о состоянии доски добавляются в boards\n",
        "            boards.append(encoder.encode(game))\n",
        "            \n",
        "            #след.ход закодированный методом унитарного кодирования...\n",
        "            move_one_hot = np.zeros(encoder.num_points())\n",
        "            move_one_hot[encoder.encode_point(move.point)] = 1\n",
        "            moves.append(move_one_hot) #...добавляются в moves\n",
        "        \n",
        "        print_move(game.next_player, move)\n",
        "        game = game.apply_move(move) #ход бота применяется к доске\n",
        "        num_moves += 1\n",
        "        if num_moves > max_moves:\n",
        "            #цикл повторяется, пока не достигнуто max кол.ходов\n",
        "            break\n",
        "    \n",
        "    return np.array(boards), np.array(moves)"
      ],
      "metadata": {
        "id": "ODuFySVSBFwb"
      },
      "execution_count": 2,
      "outputs": []
    },
    {
      "cell_type": "code",
      "source": [
        "#python generate_mcts_games.py -n 20 --board-out features.npy --move-out labels.npy\n",
        "_a_board_size = 9\n",
        "_a_rounds = 1000\n",
        "_a_max_moves = 60\n",
        "_a_temperature = 0.8\n",
        "_a_num_games = 20\n",
        "_a_board_out = 'features.npy'\n",
        "_a_move_out = 'labels.npy'\n",
        "\n",
        "\n",
        "xs = []\n",
        "ys = []\n",
        "\n",
        "for i in range(_a_num_games):\n",
        "    print('Generating game %d/%d...' % (i+1, _a_num_games))\n",
        "    #генерирование игровых данных\n",
        "    x, y = generate_game(_a_board_size, _a_rounds, _a_max_moves, _a_temperature)\n",
        "    xs.append(x)\n",
        "    ys.append(y)\n",
        "    \n",
        "#после генерации всех игр производится конкатенация признаков и меток\n",
        "x = np.concatenate(xs)\n",
        "y = np.concatenate(ys)\n",
        "    \n",
        "#данные о признаках и метках сохраняем в отдельные файлы\n",
        "np.save(_a_board_out, x)\n",
        "np.save(_a_move_out, y)"
      ],
      "metadata": {
        "colab": {
          "base_uri": "https://localhost:8080/"
        },
        "id": "-5aaFjqTBGvD",
        "outputId": "5aa95018-efe3-41a0-f026-4bf8c7b59d01"
      },
      "execution_count": null,
      "outputs": [
        {
          "output_type": "stream",
          "name": "stdout",
          "text": [
            "Geberating game 1/20...\n",
            " 9  .  .  .  .  .  .  .  .  . \n",
            " 8  .  .  .  .  .  .  .  .  . \n",
            " 7  .  .  .  .  .  .  .  .  . \n",
            " 6  .  .  .  .  .  .  .  .  . \n",
            " 5  .  .  .  .  .  .  .  .  . \n",
            " 4  .  .  .  .  .  .  .  .  . \n",
            " 3  .  .  .  .  .  .  .  .  . \n",
            " 2  .  .  .  .  .  .  .  .  . \n",
            " 1  .  .  .  .  .  .  .  .  . \n",
            "    A  B  C  D  E  F  G  H  J\n"
          ]
        }
      ]
    }
  ]
}