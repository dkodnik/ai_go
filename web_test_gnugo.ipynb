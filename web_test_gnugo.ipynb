{
  "nbformat": 4,
  "nbformat_minor": 0,
  "metadata": {
    "colab": {
      "provenance": []
    },
    "kernelspec": {
      "name": "python3",
      "display_name": "Python 3"
    },
    "language_info": {
      "name": "python"
    },
    "gpuClass": "standard"
  },
  "cells": [
    {
      "cell_type": "code",
      "source": [
        "!unzip -o dlgo.zip"
      ],
      "metadata": {
        "colab": {
          "base_uri": "https://localhost:8080/"
        },
        "id": "20s8mQw9-AD7",
        "outputId": "cb47feb8-3fb8-4f19-9aaa-adcc954f28fe"
      },
      "execution_count": 1,
      "outputs": [
        {
          "output_type": "stream",
          "name": "stdout",
          "text": [
            "Archive:  dlgo.zip\n",
            "   creating: dlgo/\n",
            "   creating: dlgo/agent/\n",
            "  inflating: dlgo/agent/base.py      \n",
            "  inflating: dlgo/agent/helpers.py   \n",
            "  inflating: dlgo/agent/naive.py     \n",
            "  inflating: dlgo/agent/predict.py   \n",
            "  inflating: dlgo/agent/termination.py  \n",
            " extracting: dlgo/agent/__init__.py  \n",
            "   creating: dlgo/agent/__pycache__/\n",
            "  inflating: dlgo/agent/__pycache__/base.cpython-310.pyc  \n",
            "  inflating: dlgo/agent/__pycache__/helpers.cpython-310.pyc  \n",
            "  inflating: dlgo/agent/__pycache__/naive.cpython-310.pyc  \n",
            "  inflating: dlgo/agent/__pycache__/predict.cpython-310.pyc  \n",
            "  inflating: dlgo/agent/__pycache__/termination.cpython-310.pyc  \n",
            "  inflating: dlgo/agent/__pycache__/__init__.cpython-310.pyc  \n",
            "   creating: dlgo/data/\n",
            "  inflating: dlgo/data/generator.py  \n",
            "  inflating: dlgo/data/index_processor.py  \n",
            "  inflating: dlgo/data/parallel_processor.py  \n",
            "  inflating: dlgo/data/processor.py  \n",
            "  inflating: dlgo/data/sampling.py   \n",
            "  inflating: dlgo/data/__init__.py   \n",
            "   creating: dlgo/data/__pycache__/\n",
            "  inflating: dlgo/data/__pycache__/index_processor.cpython-310.pyc  \n",
            "  inflating: dlgo/data/__pycache__/parallel_processor.cpython-310.pyc  \n",
            "  inflating: dlgo/data/__pycache__/__init__.cpython-310.pyc  \n",
            "   creating: dlgo/encoders/\n",
            "  inflating: dlgo/encoders/base.py   \n",
            "  inflating: dlgo/encoders/betago.py  \n",
            "  inflating: dlgo/encoders/oneplane.py  \n",
            "  inflating: dlgo/encoders/sevenplane.py  \n",
            "  inflating: dlgo/encoders/simple.py  \n",
            " extracting: dlgo/encoders/__init__.py  \n",
            "   creating: dlgo/encoders/__pycache__/\n",
            "  inflating: dlgo/encoders/__pycache__/base.cpython-310.pyc  \n",
            "  inflating: dlgo/encoders/__pycache__/oneplane.cpython-310.pyc  \n",
            "  inflating: dlgo/encoders/__pycache__/__init__.cpython-310.pyc  \n",
            "  inflating: dlgo/goboard.py         \n",
            "  inflating: dlgo/goboard_slow.py    \n",
            "   creating: dlgo/gosgf/\n",
            "  inflating: dlgo/gosgf/sgf.py       \n",
            "  inflating: dlgo/gosgf/sgf_grammar.py  \n",
            "  inflating: dlgo/gosgf/sgf_properties.py  \n",
            " extracting: dlgo/gosgf/__init__.py  \n",
            "  inflating: dlgo/gotypes.py         \n",
            "   creating: dlgo/gtp/\n",
            "  inflating: dlgo/gtp/board.py       \n",
            "  inflating: dlgo/gtp/command.py     \n",
            "  inflating: dlgo/gtp/play_local.py  \n",
            "  inflating: dlgo/gtp/utils.py       \n",
            "   creating: dlgo/gtp/__pycache__/\n",
            "  inflating: dlgo/gtp/__pycache__/board.cpython-310.pyc  \n",
            "  inflating: dlgo/gtp/__pycache__/play_local.cpython-310.pyc  \n",
            "  inflating: dlgo/gtp/__pycache__/utils.cpython-310.pyc  \n",
            "   creating: dlgo/httpfrontend/\n",
            "  inflating: dlgo/httpfrontend/server.py  \n",
            "   creating: dlgo/httpfrontend/static/\n",
            "  inflating: dlgo/httpfrontend/static/iframeSizer.contentWindow.min.js  \n",
            "  inflating: dlgo/httpfrontend/static/jgoboard-latest.js  \n",
            "   creating: dlgo/httpfrontend/static/large/\n",
            " extracting: dlgo/httpfrontend/static/large/black.png  \n",
            "  inflating: dlgo/httpfrontend/static/large/board.js  \n",
            " extracting: dlgo/httpfrontend/static/large/shadow.png  \n",
            " extracting: dlgo/httpfrontend/static/large/shadow_dark.png  \n",
            "  inflating: dlgo/httpfrontend/static/large/shinkaya.jpg  \n",
            "  inflating: dlgo/httpfrontend/static/large/walnut.jpg  \n",
            " extracting: dlgo/httpfrontend/static/large/white.png  \n",
            "  inflating: dlgo/httpfrontend/static/play_mcts_55.html  \n",
            "  inflating: dlgo/httpfrontend/static/play_pg_99.html  \n",
            "  inflating: dlgo/httpfrontend/static/play_predict_19.html  \n",
            "  inflating: dlgo/httpfrontend/static/play_q_99.html  \n",
            "  inflating: dlgo/httpfrontend/static/play_random_99.html  \n",
            " extracting: dlgo/httpfrontend/__init__.py  \n",
            "   creating: dlgo/httpfrontend/__pycache__/\n",
            "  inflating: dlgo/httpfrontend/__pycache__/server.cpython-310.pyc  \n",
            "  inflating: dlgo/httpfrontend/__pycache__/__init__.cpython-310.pyc  \n",
            "  inflating: dlgo/kerasutil.py       \n",
            "   creating: dlgo/mcts/\n",
            "  inflating: dlgo/mcts/mcts.py       \n",
            "  inflating: dlgo/mcts/__init__.py   \n",
            "   creating: dlgo/mcts/__pycache__/\n",
            "  inflating: dlgo/mcts/__pycache__/mcts.cpython-310.pyc  \n",
            "  inflating: dlgo/mcts/__pycache__/__init__.cpython-310.pyc  \n",
            "   creating: dlgo/networks/\n",
            "  inflating: dlgo/networks/large.py  \n",
            "  inflating: dlgo/networks/small.py  \n",
            "  inflating: dlgo/scoring.py         \n",
            "  inflating: dlgo/utils.py           \n",
            "  inflating: dlgo/zobrist.py         \n",
            " extracting: dlgo/__init__.py        \n",
            "   creating: dlgo/__pycache__/\n",
            "  inflating: dlgo/__pycache__/goboard.cpython-310.pyc  \n",
            "  inflating: dlgo/__pycache__/gotypes.cpython-310.pyc  \n",
            "  inflating: dlgo/__pycache__/kerasutil.cpython-310.pyc  \n",
            "  inflating: dlgo/__pycache__/scoring.cpython-310.pyc  \n",
            "  inflating: dlgo/__pycache__/utils.cpython-310.pyc  \n",
            "  inflating: dlgo/__pycache__/zobrist.cpython-310.pyc  \n",
            "  inflating: dlgo/__pycache__/__init__.cpython-310.pyc  \n"
          ]
        }
      ]
    },
    {
      "cell_type": "code",
      "source": [
        "!apt-get install gnugo"
      ],
      "metadata": {
        "colab": {
          "base_uri": "https://localhost:8080/"
        },
        "id": "dIBWuFVw-Azq",
        "outputId": "c84f3230-e2d3-403f-c5c5-1265aa5f0d43"
      },
      "execution_count": 2,
      "outputs": [
        {
          "output_type": "stream",
          "name": "stdout",
          "text": [
            "Reading package lists... Done\n",
            "Building dependency tree       \n",
            "Reading state information... Done\n",
            "The following package was automatically installed and is no longer required:\n",
            "  libnvidia-common-525\n",
            "Use 'apt autoremove' to remove it.\n",
            "Suggested packages:\n",
            "  quarry | cgoban | qgo\n",
            "The following NEW packages will be installed:\n",
            "  gnugo\n",
            "0 upgraded, 1 newly installed, 0 to remove and 23 not upgraded.\n",
            "Need to get 1,388 kB of archives.\n",
            "After this operation, 9,757 kB of additional disk space will be used.\n",
            "Get:1 http://archive.ubuntu.com/ubuntu focal/universe amd64 gnugo amd64 3.8-9build3 [1,388 kB]\n",
            "Fetched 1,388 kB in 2s (756 kB/s)\n",
            "Selecting previously unselected package gnugo.\n",
            "(Reading database ... 128293 files and directories currently installed.)\n",
            "Preparing to unpack .../gnugo_3.8-9build3_amd64.deb ...\n",
            "Unpacking gnugo (3.8-9build3) ...\n",
            "Setting up gnugo (3.8-9build3) ...\n",
            "Processing triggers for mime-support (3.64ubuntu1) ...\n",
            "Processing triggers for hicolor-icon-theme (0.17-2) ...\n",
            "Processing triggers for man-db (2.9.1-1) ...\n"
          ]
        }
      ]
    },
    {
      "cell_type": "code",
      "source": [
        "!apt-get install pachi"
      ],
      "metadata": {
        "colab": {
          "base_uri": "https://localhost:8080/"
        },
        "id": "_nkcUNYN-ger",
        "outputId": "e82bb838-b354-4051-8425-3ccc38435596"
      },
      "execution_count": 3,
      "outputs": [
        {
          "output_type": "stream",
          "name": "stdout",
          "text": [
            "Reading package lists... Done\n",
            "Building dependency tree       \n",
            "Reading state information... Done\n",
            "The following package was automatically installed and is no longer required:\n",
            "  libnvidia-common-525\n",
            "Use 'apt autoremove' to remove it.\n",
            "The following additional packages will be installed:\n",
            "  libfluidsynth2 libinstpatch-1.0-2 libmad0 libmikmod3 libsdl-mixer1.2\n",
            "  libsdl1.2debian pachi-data timgm6mb-soundfont\n",
            "Suggested packages:\n",
            "  fluid-soundfont-gm fluidsynth timidity musescore\n",
            "The following NEW packages will be installed:\n",
            "  libfluidsynth2 libinstpatch-1.0-2 libmad0 libmikmod3 libsdl-mixer1.2\n",
            "  libsdl1.2debian pachi pachi-data timgm6mb-soundfont\n",
            "0 upgraded, 9 newly installed, 0 to remove and 23 not upgraded.\n",
            "Need to get 8,868 kB of archives.\n",
            "After this operation, 24.9 MB of additional disk space will be used.\n",
            "Get:1 http://archive.ubuntu.com/ubuntu focal/universe amd64 libinstpatch-1.0-2 amd64 1.1.2-2build1 [238 kB]\n",
            "Get:2 http://archive.ubuntu.com/ubuntu focal/universe amd64 timgm6mb-soundfont all 1.3-3 [5,420 kB]\n",
            "Get:3 http://archive.ubuntu.com/ubuntu focal/universe amd64 libfluidsynth2 amd64 2.1.1-2 [198 kB]\n",
            "Get:4 http://archive.ubuntu.com/ubuntu focal/universe amd64 libmad0 amd64 0.15.1b-10ubuntu1 [63.1 kB]\n",
            "Get:5 http://archive.ubuntu.com/ubuntu focal/universe amd64 libmikmod3 amd64 3.3.11.1-4 [113 kB]\n",
            "Get:6 http://archive.ubuntu.com/ubuntu focal/universe amd64 libsdl1.2debian amd64 1.2.15+dfsg2-5 [175 kB]\n",
            "Get:7 http://archive.ubuntu.com/ubuntu focal/universe amd64 libsdl-mixer1.2 amd64 1.2.12-16build1 [72.9 kB]\n",
            "Get:8 http://archive.ubuntu.com/ubuntu focal/universe amd64 pachi-data all 1:1.0-9build1 [2,561 kB]\n",
            "Get:9 http://archive.ubuntu.com/ubuntu focal/universe amd64 pachi amd64 1:1.0-9build1 [26.9 kB]\n",
            "Fetched 8,868 kB in 2s (3,696 kB/s)\n",
            "Selecting previously unselected package libinstpatch-1.0-2:amd64.\n",
            "(Reading database ... 128350 files and directories currently installed.)\n",
            "Preparing to unpack .../0-libinstpatch-1.0-2_1.1.2-2build1_amd64.deb ...\n",
            "Unpacking libinstpatch-1.0-2:amd64 (1.1.2-2build1) ...\n",
            "Selecting previously unselected package timgm6mb-soundfont.\n",
            "Preparing to unpack .../1-timgm6mb-soundfont_1.3-3_all.deb ...\n",
            "Unpacking timgm6mb-soundfont (1.3-3) ...\n",
            "Selecting previously unselected package libfluidsynth2:amd64.\n",
            "Preparing to unpack .../2-libfluidsynth2_2.1.1-2_amd64.deb ...\n",
            "Unpacking libfluidsynth2:amd64 (2.1.1-2) ...\n",
            "Selecting previously unselected package libmad0:amd64.\n",
            "Preparing to unpack .../3-libmad0_0.15.1b-10ubuntu1_amd64.deb ...\n",
            "Unpacking libmad0:amd64 (0.15.1b-10ubuntu1) ...\n",
            "Selecting previously unselected package libmikmod3:amd64.\n",
            "Preparing to unpack .../4-libmikmod3_3.3.11.1-4_amd64.deb ...\n",
            "Unpacking libmikmod3:amd64 (3.3.11.1-4) ...\n",
            "Selecting previously unselected package libsdl1.2debian:amd64.\n",
            "Preparing to unpack .../5-libsdl1.2debian_1.2.15+dfsg2-5_amd64.deb ...\n",
            "Unpacking libsdl1.2debian:amd64 (1.2.15+dfsg2-5) ...\n",
            "Selecting previously unselected package libsdl-mixer1.2:amd64.\n",
            "Preparing to unpack .../6-libsdl-mixer1.2_1.2.12-16build1_amd64.deb ...\n",
            "Unpacking libsdl-mixer1.2:amd64 (1.2.12-16build1) ...\n",
            "Selecting previously unselected package pachi-data.\n",
            "Preparing to unpack .../7-pachi-data_1%3a1.0-9build1_all.deb ...\n",
            "Unpacking pachi-data (1:1.0-9build1) ...\n",
            "Selecting previously unselected package pachi.\n",
            "Preparing to unpack .../8-pachi_1%3a1.0-9build1_amd64.deb ...\n",
            "Unpacking pachi (1:1.0-9build1) ...\n",
            "Setting up libmikmod3:amd64 (3.3.11.1-4) ...\n",
            "Setting up libsdl1.2debian:amd64 (1.2.15+dfsg2-5) ...\n",
            "Setting up libmad0:amd64 (0.15.1b-10ubuntu1) ...\n",
            "Setting up timgm6mb-soundfont (1.3-3) ...\n",
            "update-alternatives: using /usr/share/sounds/sf2/TimGM6mb.sf2 to provide /usr/share/sounds/sf2/default-GM.sf2 (default-GM.sf2) in auto mode\n",
            "update-alternatives: using /usr/share/sounds/sf2/TimGM6mb.sf2 to provide /usr/share/sounds/sf3/default-GM.sf3 (default-GM.sf3) in auto mode\n",
            "Setting up libinstpatch-1.0-2:amd64 (1.1.2-2build1) ...\n",
            "Setting up pachi-data (1:1.0-9build1) ...\n",
            "Setting up libfluidsynth2:amd64 (2.1.1-2) ...\n",
            "Setting up libsdl-mixer1.2:amd64 (1.2.12-16build1) ...\n",
            "Setting up pachi (1:1.0-9build1) ...\n",
            "Processing triggers for man-db (2.9.1-1) ...\n",
            "Processing triggers for libc-bin (2.31-0ubuntu9.9) ...\n"
          ]
        }
      ]
    },
    {
      "cell_type": "code",
      "source": [
        "!ln -s /usr/games/gnugo /usr/bin/gnugo\n",
        "!ln -s /usr/games/pachi /usr/bin/pachi"
      ],
      "metadata": {
        "id": "jFXSQpu3HsQv"
      },
      "execution_count": 4,
      "outputs": []
    },
    {
      "cell_type": "code",
      "source": [
        "#!gnugo\n",
        "#!pachi"
      ],
      "metadata": {
        "id": "F1GkNaaLHKfS"
      },
      "execution_count": 5,
      "outputs": []
    },
    {
      "cell_type": "code",
      "execution_count": 6,
      "metadata": {
        "id": "mH8Wt7GB9jUW"
      },
      "outputs": [],
      "source": [
        "import h5py\n",
        "\n",
        "from dlgo.gtp.play_local import LocalGtpBot\n",
        "from dlgo.agent.termination import PassWhenOpponentPasses\n",
        "from dlgo.agent.predict import load_prediction_agent\n",
        "#from dlgo.encoders.sevenplane import SevenPlaneEncoder"
      ]
    },
    {
      "cell_type": "code",
      "source": [
        "!mkdir ./agents\n",
        "!cp /content/drive/MyDrive/colab1/sevenplane.h5 ./agents/sevenplane.h5"
      ],
      "metadata": {
        "id": "3JE8BouBMv5q"
      },
      "execution_count": 7,
      "outputs": []
    },
    {
      "cell_type": "code",
      "source": [
        "model_file = h5py.File(\"./agents/sevenplane.h5\", \"r\")\n",
        "bot = load_prediction_agent(model_file)"
      ],
      "metadata": {
        "id": "ooKuOu7Z944y"
      },
      "execution_count": 8,
      "outputs": []
    },
    {
      "cell_type": "code",
      "source": [
        "gnu_go = LocalGtpBot(go_bot=bot, termination=PassWhenOpponentPasses(),\n",
        "                     handicap=0, opponent='gnugo', ) #opponent='pachi'"
      ],
      "metadata": {
        "id": "gPl0gsTo5xOd"
      },
      "execution_count": 9,
      "outputs": []
    },
    {
      "cell_type": "code",
      "source": [
        "gnu_go.run()"
      ],
      "metadata": {
        "id": "zjSUSPtT96Nd"
      },
      "execution_count": null,
      "outputs": []
    }
  ]
}