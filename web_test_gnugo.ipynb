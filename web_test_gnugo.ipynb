{
  "nbformat": 4,
  "nbformat_minor": 0,
  "metadata": {
    "colab": {
      "provenance": []
    },
    "kernelspec": {
      "name": "python3",
      "display_name": "Python 3"
    },
    "language_info": {
      "name": "python"
    }
  },
  "cells": [
    {
      "cell_type": "code",
      "source": [
        "!unzip -o dlgo.zip"
      ],
      "metadata": {
        "colab": {
          "base_uri": "https://localhost:8080/"
        },
        "id": "20s8mQw9-AD7",
        "outputId": "541f5869-37c2-4c24-e361-df9902d2b37a"
      },
      "execution_count": 1,
      "outputs": [
        {
          "output_type": "stream",
          "name": "stdout",
          "text": [
            "Archive:  dlgo.zip\n",
            "   creating: dlgo/\n",
            "   creating: dlgo/agent/\n",
            "  inflating: dlgo/agent/base.py      \n",
            "  inflating: dlgo/agent/helpers.py   \n",
            "  inflating: dlgo/agent/naive.py     \n",
            "  inflating: dlgo/agent/predict.py   \n",
            "  inflating: dlgo/agent/termination.py  \n",
            " extracting: dlgo/agent/__init__.py  \n",
            "   creating: dlgo/agent/__pycache__/\n",
            "  inflating: dlgo/agent/__pycache__/base.cpython-310.pyc  \n",
            "  inflating: dlgo/agent/__pycache__/helpers.cpython-310.pyc  \n",
            "  inflating: dlgo/agent/__pycache__/naive.cpython-310.pyc  \n",
            "  inflating: dlgo/agent/__pycache__/predict.cpython-310.pyc  \n",
            "  inflating: dlgo/agent/__pycache__/termination.cpython-310.pyc  \n",
            "  inflating: dlgo/agent/__pycache__/__init__.cpython-310.pyc  \n",
            "   creating: dlgo/data/\n",
            "  inflating: dlgo/data/generator.py  \n",
            "  inflating: dlgo/data/index_processor.py  \n",
            "  inflating: dlgo/data/parallel_processor.py  \n",
            "  inflating: dlgo/data/processor.py  \n",
            "  inflating: dlgo/data/sampling.py   \n",
            "  inflating: dlgo/data/__init__.py   \n",
            "   creating: dlgo/data/__pycache__/\n",
            "  inflating: dlgo/data/__pycache__/index_processor.cpython-310.pyc  \n",
            "  inflating: dlgo/data/__pycache__/parallel_processor.cpython-310.pyc  \n",
            "  inflating: dlgo/data/__pycache__/__init__.cpython-310.pyc  \n",
            "   creating: dlgo/encoders/\n",
            "  inflating: dlgo/encoders/base.py   \n",
            "  inflating: dlgo/encoders/oneplane.py  \n",
            "  inflating: dlgo/encoders/sevenplane.py  \n",
            "  inflating: dlgo/encoders/simple.py  \n",
            " extracting: dlgo/encoders/__init__.py  \n",
            "   creating: dlgo/encoders/__pycache__/\n",
            "  inflating: dlgo/encoders/__pycache__/base.cpython-310.pyc  \n",
            "  inflating: dlgo/encoders/__pycache__/oneplane.cpython-310.pyc  \n",
            "  inflating: dlgo/encoders/__pycache__/__init__.cpython-310.pyc  \n",
            "  inflating: dlgo/goboard.py         \n",
            "  inflating: dlgo/goboard_slow.py    \n",
            "   creating: dlgo/gosgf/\n",
            "  inflating: dlgo/gosgf/sgf.py       \n",
            "  inflating: dlgo/gosgf/sgf_grammar.py  \n",
            "  inflating: dlgo/gosgf/sgf_properties.py  \n",
            " extracting: dlgo/gosgf/__init__.py  \n",
            "  inflating: dlgo/gotypes.py         \n",
            "   creating: dlgo/gtp/\n",
            "  inflating: dlgo/gtp/board.py       \n",
            "  inflating: dlgo/gtp/command.py     \n",
            "  inflating: dlgo/gtp/play_local.py  \n",
            "  inflating: dlgo/gtp/utils.py       \n",
            "   creating: dlgo/gtp/__pycache__/\n",
            "  inflating: dlgo/gtp/__pycache__/board.cpython-310.pyc  \n",
            "  inflating: dlgo/gtp/__pycache__/play_local.cpython-310.pyc  \n",
            "  inflating: dlgo/gtp/__pycache__/utils.cpython-310.pyc  \n",
            "   creating: dlgo/httpfrontend/\n",
            "  inflating: dlgo/httpfrontend/server.py  \n",
            "   creating: dlgo/httpfrontend/static/\n",
            "  inflating: dlgo/httpfrontend/static/iframeSizer.contentWindow.min.js  \n",
            "  inflating: dlgo/httpfrontend/static/jgoboard-latest.js  \n",
            "   creating: dlgo/httpfrontend/static/large/\n",
            " extracting: dlgo/httpfrontend/static/large/black.png  \n",
            "  inflating: dlgo/httpfrontend/static/large/board.js  \n",
            " extracting: dlgo/httpfrontend/static/large/shadow.png  \n",
            " extracting: dlgo/httpfrontend/static/large/shadow_dark.png  \n",
            "  inflating: dlgo/httpfrontend/static/large/shinkaya.jpg  \n",
            "  inflating: dlgo/httpfrontend/static/large/walnut.jpg  \n",
            " extracting: dlgo/httpfrontend/static/large/white.png  \n",
            "  inflating: dlgo/httpfrontend/static/play_mcts_55.html  \n",
            "  inflating: dlgo/httpfrontend/static/play_pg_99.html  \n",
            "  inflating: dlgo/httpfrontend/static/play_predict_19.html  \n",
            "  inflating: dlgo/httpfrontend/static/play_q_99.html  \n",
            "  inflating: dlgo/httpfrontend/static/play_random_99.html  \n",
            " extracting: dlgo/httpfrontend/__init__.py  \n",
            "   creating: dlgo/httpfrontend/__pycache__/\n",
            "  inflating: dlgo/httpfrontend/__pycache__/server.cpython-310.pyc  \n",
            "  inflating: dlgo/httpfrontend/__pycache__/__init__.cpython-310.pyc  \n",
            "  inflating: dlgo/kerasutil.py       \n",
            "   creating: dlgo/mcts/\n",
            "  inflating: dlgo/mcts/mcts.py       \n",
            "  inflating: dlgo/mcts/__init__.py   \n",
            "   creating: dlgo/mcts/__pycache__/\n",
            "  inflating: dlgo/mcts/__pycache__/mcts.cpython-310.pyc  \n",
            "  inflating: dlgo/mcts/__pycache__/__init__.cpython-310.pyc  \n",
            "   creating: dlgo/networks/\n",
            "  inflating: dlgo/networks/large.py  \n",
            "  inflating: dlgo/networks/small.py  \n",
            "  inflating: dlgo/scoring.py         \n",
            "  inflating: dlgo/utils.py           \n",
            "  inflating: dlgo/zobrist.py         \n",
            " extracting: dlgo/__init__.py        \n",
            "   creating: dlgo/__pycache__/\n",
            "  inflating: dlgo/__pycache__/goboard.cpython-310.pyc  \n",
            "  inflating: dlgo/__pycache__/gotypes.cpython-310.pyc  \n",
            "  inflating: dlgo/__pycache__/kerasutil.cpython-310.pyc  \n",
            "  inflating: dlgo/__pycache__/scoring.cpython-310.pyc  \n",
            "  inflating: dlgo/__pycache__/utils.cpython-310.pyc  \n",
            "  inflating: dlgo/__pycache__/zobrist.cpython-310.pyc  \n",
            "  inflating: dlgo/__pycache__/__init__.cpython-310.pyc  \n"
          ]
        }
      ]
    },
    {
      "cell_type": "code",
      "source": [
        "!apt-get install gnugo"
      ],
      "metadata": {
        "colab": {
          "base_uri": "https://localhost:8080/"
        },
        "id": "dIBWuFVw-Azq",
        "outputId": "99d42049-a5c9-4d55-b7e7-6412284927dc"
      },
      "execution_count": 16,
      "outputs": [
        {
          "output_type": "stream",
          "name": "stdout",
          "text": [
            "Reading package lists... Done\n",
            "Building dependency tree       \n",
            "Reading state information... Done\n",
            "gnugo is already the newest version (3.8-9build3).\n",
            "The following package was automatically installed and is no longer required:\n",
            "  libnvidia-common-525\n",
            "Use 'apt autoremove' to remove it.\n",
            "0 upgraded, 0 newly installed, 0 to remove and 23 not upgraded.\n"
          ]
        }
      ]
    },
    {
      "cell_type": "code",
      "source": [
        "!apt-get install pachi"
      ],
      "metadata": {
        "colab": {
          "base_uri": "https://localhost:8080/"
        },
        "id": "_nkcUNYN-ger",
        "outputId": "549b130c-a3c5-4e3b-f2e6-67f93e125ebc"
      },
      "execution_count": 5,
      "outputs": [
        {
          "output_type": "stream",
          "name": "stdout",
          "text": [
            "Reading package lists... Done\n",
            "Building dependency tree       \n",
            "Reading state information... Done\n",
            "The following package was automatically installed and is no longer required:\n",
            "  libnvidia-common-525\n",
            "Use 'apt autoremove' to remove it.\n",
            "The following additional packages will be installed:\n",
            "  libfluidsynth2 libinstpatch-1.0-2 libmad0 libmikmod3 libsdl-mixer1.2\n",
            "  libsdl1.2debian pachi-data timgm6mb-soundfont\n",
            "Suggested packages:\n",
            "  fluid-soundfont-gm fluidsynth timidity musescore\n",
            "The following NEW packages will be installed:\n",
            "  libfluidsynth2 libinstpatch-1.0-2 libmad0 libmikmod3 libsdl-mixer1.2\n",
            "  libsdl1.2debian pachi pachi-data timgm6mb-soundfont\n",
            "0 upgraded, 9 newly installed, 0 to remove and 23 not upgraded.\n",
            "Need to get 8,868 kB of archives.\n",
            "After this operation, 24.9 MB of additional disk space will be used.\n",
            "Get:1 http://archive.ubuntu.com/ubuntu focal/universe amd64 libinstpatch-1.0-2 amd64 1.1.2-2build1 [238 kB]\n",
            "Get:2 http://archive.ubuntu.com/ubuntu focal/universe amd64 timgm6mb-soundfont all 1.3-3 [5,420 kB]\n",
            "Get:3 http://archive.ubuntu.com/ubuntu focal/universe amd64 libfluidsynth2 amd64 2.1.1-2 [198 kB]\n",
            "Get:4 http://archive.ubuntu.com/ubuntu focal/universe amd64 libmad0 amd64 0.15.1b-10ubuntu1 [63.1 kB]\n",
            "Get:5 http://archive.ubuntu.com/ubuntu focal/universe amd64 libmikmod3 amd64 3.3.11.1-4 [113 kB]\n",
            "Get:6 http://archive.ubuntu.com/ubuntu focal/universe amd64 libsdl1.2debian amd64 1.2.15+dfsg2-5 [175 kB]\n",
            "Get:7 http://archive.ubuntu.com/ubuntu focal/universe amd64 libsdl-mixer1.2 amd64 1.2.12-16build1 [72.9 kB]\n",
            "Get:8 http://archive.ubuntu.com/ubuntu focal/universe amd64 pachi-data all 1:1.0-9build1 [2,561 kB]\n",
            "Get:9 http://archive.ubuntu.com/ubuntu focal/universe amd64 pachi amd64 1:1.0-9build1 [26.9 kB]\n",
            "Fetched 8,868 kB in 1s (7,906 kB/s)\n",
            "Selecting previously unselected package libinstpatch-1.0-2:amd64.\n",
            "(Reading database ... 128350 files and directories currently installed.)\n",
            "Preparing to unpack .../0-libinstpatch-1.0-2_1.1.2-2build1_amd64.deb ...\n",
            "Unpacking libinstpatch-1.0-2:amd64 (1.1.2-2build1) ...\n",
            "Selecting previously unselected package timgm6mb-soundfont.\n",
            "Preparing to unpack .../1-timgm6mb-soundfont_1.3-3_all.deb ...\n",
            "Unpacking timgm6mb-soundfont (1.3-3) ...\n",
            "Selecting previously unselected package libfluidsynth2:amd64.\n",
            "Preparing to unpack .../2-libfluidsynth2_2.1.1-2_amd64.deb ...\n",
            "Unpacking libfluidsynth2:amd64 (2.1.1-2) ...\n",
            "Selecting previously unselected package libmad0:amd64.\n",
            "Preparing to unpack .../3-libmad0_0.15.1b-10ubuntu1_amd64.deb ...\n",
            "Unpacking libmad0:amd64 (0.15.1b-10ubuntu1) ...\n",
            "Selecting previously unselected package libmikmod3:amd64.\n",
            "Preparing to unpack .../4-libmikmod3_3.3.11.1-4_amd64.deb ...\n",
            "Unpacking libmikmod3:amd64 (3.3.11.1-4) ...\n",
            "Selecting previously unselected package libsdl1.2debian:amd64.\n",
            "Preparing to unpack .../5-libsdl1.2debian_1.2.15+dfsg2-5_amd64.deb ...\n",
            "Unpacking libsdl1.2debian:amd64 (1.2.15+dfsg2-5) ...\n",
            "Selecting previously unselected package libsdl-mixer1.2:amd64.\n",
            "Preparing to unpack .../6-libsdl-mixer1.2_1.2.12-16build1_amd64.deb ...\n",
            "Unpacking libsdl-mixer1.2:amd64 (1.2.12-16build1) ...\n",
            "Selecting previously unselected package pachi-data.\n",
            "Preparing to unpack .../7-pachi-data_1%3a1.0-9build1_all.deb ...\n",
            "Unpacking pachi-data (1:1.0-9build1) ...\n",
            "Selecting previously unselected package pachi.\n",
            "Preparing to unpack .../8-pachi_1%3a1.0-9build1_amd64.deb ...\n",
            "Unpacking pachi (1:1.0-9build1) ...\n",
            "Setting up libmikmod3:amd64 (3.3.11.1-4) ...\n",
            "Setting up libsdl1.2debian:amd64 (1.2.15+dfsg2-5) ...\n",
            "Setting up libmad0:amd64 (0.15.1b-10ubuntu1) ...\n",
            "Setting up timgm6mb-soundfont (1.3-3) ...\n",
            "update-alternatives: using /usr/share/sounds/sf2/TimGM6mb.sf2 to provide /usr/share/sounds/sf2/default-GM.sf2 (default-GM.sf2) in auto mode\n",
            "update-alternatives: using /usr/share/sounds/sf2/TimGM6mb.sf2 to provide /usr/share/sounds/sf3/default-GM.sf3 (default-GM.sf3) in auto mode\n",
            "Setting up libinstpatch-1.0-2:amd64 (1.1.2-2build1) ...\n",
            "Setting up pachi-data (1:1.0-9build1) ...\n",
            "Setting up libfluidsynth2:amd64 (2.1.1-2) ...\n",
            "Setting up libsdl-mixer1.2:amd64 (1.2.12-16build1) ...\n",
            "Setting up pachi (1:1.0-9build1) ...\n",
            "Processing triggers for man-db (2.9.1-1) ...\n",
            "Processing triggers for libc-bin (2.31-0ubuntu9.9) ...\n"
          ]
        }
      ]
    },
    {
      "cell_type": "code",
      "source": [
        "!ln -s /usr/games/gnugo /usr/bin/gnugo\n",
        "!ln -s /usr/games/pachi /usr/bin/pachi"
      ],
      "metadata": {
        "id": "jFXSQpu3HsQv"
      },
      "execution_count": 21,
      "outputs": []
    },
    {
      "cell_type": "code",
      "source": [
        "!gnugo\n",
        "#!pachi"
      ],
      "metadata": {
        "colab": {
          "base_uri": "https://localhost:8080/"
        },
        "id": "F1GkNaaLHKfS",
        "outputId": "5c60c806-3fa4-4307-8094-64c8bfdf9d6c"
      },
      "execution_count": 1,
      "outputs": [
        {
          "output_type": "stream",
          "name": "stdout",
          "text": [
            "GNU Go 3.8\n",
            "Copyright 1999, 2000, 2001, 2002, 2003, 2004, 2005, 2006, 2007\n",
            "2008 and 2009 by the Free Software Foundation, Inc.\n",
            "See http://www.gnu.org/software/gnugo/ or contact\n",
            "gnugo@gnu.org for information about GNU Go. GNU Go comes with NO WARRANTY to\n",
            "the extent permitted by law. This program is free software; you can\n",
            "redistribute it and/or modify it under the terms of the GNU General Public\n",
            "License as published by the Free Software Foundation - version 3 or\n",
            "(at your option) any later version. For more\n",
            "information about these matters, see the files named COPYING.\n",
            "\n",
            "Beginning ASCII mode game.\n",
            "\n",
            "Board Size:   19\n",
            "Handicap      0\n",
            "Komi:         0.0\n",
            "Move Number:  0\n",
            "To Move:      black\n",
            "Computer player: White\n",
            "\n",
            "    White (O) has captured 0 pieces\n",
            "    Black (X) has captured 0 pieces\n",
            "\n",
            "    A B C D E F G H J K L M N O P Q R S T\n",
            " 19 . . . . . . . . . . . . . . . . . . . 19\n",
            " 18 . . . . . . . . . . . . . . . . . . . 18\n",
            " 17 . . . . . . . . . . . . . . . . . . . 17\n",
            " 16 . . . + . . . . . + . . . . . + . . . 16\n",
            " 15 . . . . . . . . . . . . . . . . . . . 15\n",
            " 14 . . . . . . . . . . . . . . . . . . . 14\n",
            " 13 . . . . . . . . . . . . . . . . . . . 13\n",
            " 12 . . . . . . . . . . . . . . . . . . . 12\n",
            " 11 . . . . . . . . . . . . . . . . . . . 11\n",
            " 10 . . . + . . . . . + . . . . . + . . . 10\n",
            "  9 . . . . . . . . . . . . . . . . . . .  9\n",
            "  8 . . . . . . . . . . . . . . . . . . .  8\n",
            "  7 . . . . . . . . . . . . . . . . . . .  7\n",
            "  6 . . . . . . . . . . . . . . . . . . .  6\n",
            "  5 . . . . . . . . . . . . . . . . . . .  5\n",
            "  4 . . . + . . . . . + . . . . . + . . .  4\n",
            "  3 . . . . . . . . . . . . . . . . . . .  3\n",
            "  2 . . . . . . . . . . . . . . . . . . .  2\n",
            "  1 . . . . . . . . . . . . . . . . . . .  1\n",
            "    A B C D E F G H J K L M N O P Q R S T\n",
            "\n",
            "black(1): ^C\n"
          ]
        }
      ]
    },
    {
      "cell_type": "code",
      "execution_count": 2,
      "metadata": {
        "id": "mH8Wt7GB9jUW"
      },
      "outputs": [],
      "source": [
        "from dlgo.gtp.play_local import LocalGtpBot\n",
        "from dlgo.agent.termination import PassWhenOpponentPasses\n",
        "from dlgo.agent.predict import load_prediction_agent\n",
        "import h5py"
      ]
    },
    {
      "cell_type": "code",
      "source": [
        "bot = load_prediction_agent(h5py.File(\"./agents/sevenplane.h5\", \"r\"))\n",
        "gnu_go = LocalGtpBot(go_bot=bot, termination=PassWhenOpponentPasses(),\n",
        "                     handicap=0, opponent='gnugo', ) #opponent='pachi'"
      ],
      "metadata": {
        "colab": {
          "base_uri": "https://localhost:8080/"
        },
        "id": "ooKuOu7Z944y",
        "outputId": "ecc83b13-8c81-4676-a3cc-f5092352064b"
      },
      "execution_count": 3,
      "outputs": [
        {
          "output_type": "stream",
          "name": "stderr",
          "text": [
            "WARNING:tensorflow:No training configuration found in the save file, so the model was *not* compiled. Compile it manually.\n"
          ]
        }
      ]
    },
    {
      "cell_type": "code",
      "source": [
        "gnu_go.run()"
      ],
      "metadata": {
        "colab": {
          "base_uri": "https://localhost:8080/",
          "height": 313
        },
        "id": "zjSUSPtT96Nd",
        "outputId": "97802e13-6190-4c2f-babd-351a6aa2b17c"
      },
      "execution_count": 4,
      "outputs": [
        {
          "output_type": "error",
          "ename": "KeyboardInterrupt",
          "evalue": "ignored",
          "traceback": [
            "\u001b[0;31m---------------------------------------------------------------------------\u001b[0m",
            "\u001b[0;31mKeyboardInterrupt\u001b[0m                         Traceback (most recent call last)",
            "\u001b[0;32m<ipython-input-4-3845700d40fb>\u001b[0m in \u001b[0;36m<cell line: 1>\u001b[0;34m()\u001b[0m\n\u001b[0;32m----> 1\u001b[0;31m \u001b[0mgnu_go\u001b[0m\u001b[0;34m.\u001b[0m\u001b[0mrun\u001b[0m\u001b[0;34m(\u001b[0m\u001b[0;34m)\u001b[0m\u001b[0;34m\u001b[0m\u001b[0;34m\u001b[0m\u001b[0m\n\u001b[0m",
            "\u001b[0;32m/content/dlgo/gtp/play_local.py\u001b[0m in \u001b[0;36mrun\u001b[0;34m(self)\u001b[0m\n\u001b[1;32m     73\u001b[0m \u001b[0;34m\u001b[0m\u001b[0m\n\u001b[1;32m     74\u001b[0m         \u001b[0;31m#настройка доски, создание её размером 19x19\u001b[0m\u001b[0;34m\u001b[0m\u001b[0;34m\u001b[0m\u001b[0m\n\u001b[0;32m---> 75\u001b[0;31m         \u001b[0mself\u001b[0m\u001b[0;34m.\u001b[0m\u001b[0mcommand_and_response\u001b[0m\u001b[0;34m(\u001b[0m\u001b[0;34m\"boardsize 19\\n\"\u001b[0m\u001b[0;34m)\u001b[0m\u001b[0;34m\u001b[0m\u001b[0;34m\u001b[0m\u001b[0m\n\u001b[0m\u001b[1;32m     76\u001b[0m         \u001b[0;31m#задается гандикап\u001b[0m\u001b[0;34m\u001b[0m\u001b[0;34m\u001b[0m\u001b[0m\n\u001b[1;32m     77\u001b[0m         \u001b[0mself\u001b[0m\u001b[0;34m.\u001b[0m\u001b[0mset_handicap\u001b[0m\u001b[0;34m(\u001b[0m\u001b[0;34m)\u001b[0m\u001b[0;34m\u001b[0m\u001b[0;34m\u001b[0m\u001b[0m\n",
            "\u001b[0;32m/content/dlgo/gtp/play_local.py\u001b[0m in \u001b[0;36mcommand_and_response\u001b[0;34m(self, cmd)\u001b[0m\n\u001b[1;32m     67\u001b[0m         \u001b[0;34m\"\"\"Отправка GTP-команды и получение ответа\"\"\"\u001b[0m\u001b[0;34m\u001b[0m\u001b[0;34m\u001b[0m\u001b[0m\n\u001b[1;32m     68\u001b[0m         \u001b[0mself\u001b[0m\u001b[0;34m.\u001b[0m\u001b[0msend_command\u001b[0m\u001b[0;34m(\u001b[0m\u001b[0mcmd\u001b[0m\u001b[0;34m)\u001b[0m\u001b[0;34m\u001b[0m\u001b[0;34m\u001b[0m\u001b[0m\n\u001b[0;32m---> 69\u001b[0;31m         \u001b[0;32mreturn\u001b[0m \u001b[0mself\u001b[0m\u001b[0;34m.\u001b[0m\u001b[0mget_response\u001b[0m\u001b[0;34m(\u001b[0m\u001b[0;34m)\u001b[0m\u001b[0;34m\u001b[0m\u001b[0;34m\u001b[0m\u001b[0m\n\u001b[0m\u001b[1;32m     70\u001b[0m \u001b[0;34m\u001b[0m\u001b[0m\n\u001b[1;32m     71\u001b[0m     \u001b[0;32mdef\u001b[0m \u001b[0mrun\u001b[0m\u001b[0;34m(\u001b[0m\u001b[0mself\u001b[0m\u001b[0;34m)\u001b[0m\u001b[0;34m:\u001b[0m\u001b[0;34m\u001b[0m\u001b[0;34m\u001b[0m\u001b[0m\n",
            "\u001b[0;32m/content/dlgo/gtp/play_local.py\u001b[0m in \u001b[0;36mget_response\u001b[0;34m(self)\u001b[0m\n\u001b[1;32m     57\u001b[0m         \u001b[0mresult\u001b[0m \u001b[0;34m=\u001b[0m \u001b[0;34m''\u001b[0m\u001b[0;34m\u001b[0m\u001b[0;34m\u001b[0m\u001b[0m\n\u001b[1;32m     58\u001b[0m         \u001b[0;32mwhile\u001b[0m \u001b[0;32mnot\u001b[0m \u001b[0msucceeded\u001b[0m\u001b[0;34m:\u001b[0m\u001b[0;34m\u001b[0m\u001b[0;34m\u001b[0m\u001b[0m\n\u001b[0;32m---> 59\u001b[0;31m             \u001b[0mline\u001b[0m \u001b[0;34m=\u001b[0m \u001b[0mself\u001b[0m\u001b[0;34m.\u001b[0m\u001b[0mgtp_stream\u001b[0m\u001b[0;34m.\u001b[0m\u001b[0mstdout\u001b[0m\u001b[0;34m.\u001b[0m\u001b[0mreadline\u001b[0m\u001b[0;34m(\u001b[0m\u001b[0;34m)\u001b[0m\u001b[0;34m\u001b[0m\u001b[0;34m\u001b[0m\u001b[0m\n\u001b[0m\u001b[1;32m     60\u001b[0m             \u001b[0;32mif\u001b[0m \u001b[0mline\u001b[0m\u001b[0;34m[\u001b[0m\u001b[0;36m0\u001b[0m\u001b[0;34m]\u001b[0m \u001b[0;34m==\u001b[0m \u001b[0;34m'='\u001b[0m\u001b[0;34m:\u001b[0m\u001b[0;34m\u001b[0m\u001b[0;34m\u001b[0m\u001b[0m\n\u001b[1;32m     61\u001b[0m                 \u001b[0msucceeded\u001b[0m \u001b[0;34m=\u001b[0m \u001b[0;32mTrue\u001b[0m\u001b[0;34m\u001b[0m\u001b[0;34m\u001b[0m\u001b[0m\n",
            "\u001b[0;31mKeyboardInterrupt\u001b[0m: "
          ]
        }
      ]
    }
  ]
}