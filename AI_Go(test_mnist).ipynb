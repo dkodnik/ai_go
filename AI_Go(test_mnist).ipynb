{
  "nbformat": 4,
  "nbformat_minor": 0,
  "metadata": {
    "colab": {
      "provenance": []
    },
    "kernelspec": {
      "name": "python3",
      "display_name": "Python 3"
    },
    "language_info": {
      "name": "python"
    }
  },
  "cells": [
    {
      "cell_type": "code",
      "execution_count": null,
      "metadata": {
        "colab": {
          "base_uri": "https://localhost:8080/"
        },
        "id": "QWqJsmbkhOsK",
        "outputId": "02305fb3-14b7-4ab9-a31c-938390dca793"
      },
      "outputs": [
        {
          "output_type": "stream",
          "name": "stdout",
          "text": [
            "Looking in indexes: https://pypi.org/simple, https://us-python.pkg.dev/colab-wheels/public/simple/\n",
            "Requirement already satisfied: numpy in /usr/local/lib/python3.9/dist-packages (1.22.4)\n"
          ]
        }
      ],
      "source": [
        "!pip install numpy"
      ]
    },
    {
      "cell_type": "code",
      "source": [
        "import six.moves.cPickle as pickle\n",
        "import gzip\n",
        "import numpy as np"
      ],
      "metadata": {
        "id": "lSPVVwWjiSr3"
      },
      "execution_count": null,
      "outputs": []
    },
    {
      "cell_type": "code",
      "source": [
        "def encode_label(j):\n",
        "  \"\"\"Унитарное кодирование индексов векторов длиной 10\"\"\"\n",
        "  e = np.zeros((10,1))\n",
        "  e[j] = 1.0\n",
        "  return e"
      ],
      "metadata": {
        "id": "TFioy3f1ieQw"
      },
      "execution_count": null,
      "outputs": []
    },
    {
      "cell_type": "code",
      "source": [
        "!wget https://github.com/maxpumperla/deep_learning_and_the_game_of_go/raw/master/code/dlgo/nn/mnist.npz"
      ],
      "metadata": {
        "colab": {
          "base_uri": "https://localhost:8080/"
        },
        "id": "j2MGfYx4lDK5",
        "outputId": "8f0dcfdd-617d-45c4-99fc-3152f6665251"
      },
      "execution_count": null,
      "outputs": [
        {
          "output_type": "stream",
          "name": "stdout",
          "text": [
            "--2023-03-09 14:40:42--  https://github.com/maxpumperla/deep_learning_and_the_game_of_go/raw/master/code/dlgo/nn/mnist.npz\n",
            "Resolving github.com (github.com)... 140.82.112.4\n",
            "Connecting to github.com (github.com)|140.82.112.4|:443... connected.\n",
            "HTTP request sent, awaiting response... 302 Found\n",
            "Location: https://raw.githubusercontent.com/maxpumperla/deep_learning_and_the_game_of_go/master/code/dlgo/nn/mnist.npz [following]\n",
            "--2023-03-09 14:40:42--  https://raw.githubusercontent.com/maxpumperla/deep_learning_and_the_game_of_go/master/code/dlgo/nn/mnist.npz\n",
            "Resolving raw.githubusercontent.com (raw.githubusercontent.com)... 185.199.110.133, 185.199.108.133, 185.199.109.133, ...\n",
            "Connecting to raw.githubusercontent.com (raw.githubusercontent.com)|185.199.110.133|:443... connected.\n",
            "HTTP request sent, awaiting response... 200 OK\n",
            "Length: 11490434 (11M) [application/octet-stream]\n",
            "Saving to: ‘mnist.npz.1’\n",
            "\n",
            "mnist.npz.1         100%[===================>]  10.96M  --.-KB/s    in 0.1s    \n",
            "\n",
            "2023-03-09 14:40:42 (102 MB/s) - ‘mnist.npz.1’ saved [11490434/11490434]\n",
            "\n"
          ]
        }
      ]
    },
    {
      "cell_type": "code",
      "source": [
        "def shape_data(data):\n",
        "  features = [np.reshape(x, (784,1)) for x in data[0]]\n",
        "  labels = [encode_label(y) for y in data[1]]\n",
        "  #return zip(features, labels)\n",
        "  return list(zip(features, labels))\n",
        "\n",
        "def load_data_impl():\n",
        "  # file retrieved by:\n",
        "  #   wget https://s3.amazonaws.com/img-datasets/mnist.npz -O code/dlgo/nn/mnist.npz\n",
        "  # code based on:\n",
        "  #   site-packages/keras/datasets/mnist.py\n",
        "  path = 'mnist.npz'\n",
        "  f = np.load(path)\n",
        "  x_train, y_train = f['x_train'], f['y_train']\n",
        "  x_test, y_test = f['x_test'], f['y_test']\n",
        "  f.close()\n",
        "  return (x_train, y_train), (x_test, y_test)\n",
        "\n",
        "def load_data():\n",
        "  train_data, test_data = load_data_impl()\n",
        "  return shape_data(train_data), shape_data(test_data)"
      ],
      "metadata": {
        "id": "_IH4zBhIjhwq"
      },
      "execution_count": null,
      "outputs": []
    },
    {
      "cell_type": "code",
      "source": [
        "def sigmoid_double(x):\n",
        "    return 1.0 / (1.0 + np.exp(-x))\n",
        "\n",
        "def sigmoid(z):\n",
        "    return np.vectorize(sigmoid_double)(z)"
      ],
      "metadata": {
        "id": "Ma6T2-Kqtoet"
      },
      "execution_count": null,
      "outputs": []
    },
    {
      "cell_type": "code",
      "source": [
        "def average_digit(data, digit):\n",
        "  filtered_data = [x[0] for x in data if np.argmax(x[1]) == digit]\n",
        "  filtered_array = np.asarray(filtered_data)\n",
        "  return np.average(filtered_array, axis=0)\n",
        "\n",
        "train, test = load_data()\n",
        "avg_eight = average_digit(train, 8)"
      ],
      "metadata": {
        "id": "1ZnLNBi4tpfO"
      },
      "execution_count": null,
      "outputs": []
    },
    {
      "cell_type": "code",
      "source": [
        "from matplotlib import pyplot as plt"
      ],
      "metadata": {
        "id": "yJBoNvHQuv9x"
      },
      "execution_count": null,
      "outputs": []
    },
    {
      "cell_type": "code",
      "source": [
        "img = (np.reshape(avg_eight, (28,28)))\n",
        "plt.imshow(img)\n",
        "plt.show()"
      ],
      "metadata": {
        "colab": {
          "base_uri": "https://localhost:8080/",
          "height": 265
        },
        "id": "0ueNbOCLu270",
        "outputId": "20e85292-2ffa-4d76-9c7a-340fff17199d"
      },
      "execution_count": null,
      "outputs": [
        {
          "output_type": "display_data",
          "data": {
            "text/plain": [
              "<Figure size 432x288 with 1 Axes>"
            ],
            "image/png": "[encoded data removed]"
          },
          "metadata": {
            "needs_background": "light"
          }
        }
      ]
    },
    {
      "cell_type": "code",
      "source": [
        "x_3 = train[2][0] #4\n",
        "x_18 = train[17][0] #8\n",
        "\n",
        "#print(x_3)"
      ],
      "metadata": {
        "id": "36JVQ0yMvg7P"
      },
      "execution_count": null,
      "outputs": []
    },
    {
      "cell_type": "code",
      "source": [
        "W = np.transpose(avg_eight)\n",
        "W"
      ],
      "metadata": {
        "colab": {
          "base_uri": "https://localhost:8080/"
        },
        "id": "_GRn0p030XgF",
        "outputId": "b474145c-a7b5-482a-f7f6-4d4acde1809f"
      },
      "execution_count": null,
      "outputs": [
        {
          "output_type": "execute_result",
          "data": {
            "text/plain": [
              "array([[0.00000000e+00, 0.00000000e+00, 0.00000000e+00, 0.00000000e+00,\n",
              "        0.00000000e+00, 0.00000000e+00, 0.00000000e+00, 0.00000000e+00,\n",
              "        0.00000000e+00, 0.00000000e+00, 0.00000000e+00, 0.00000000e+00,\n",
              "        0.00000000e+00, 0.00000000e+00, 0.00000000e+00, 0.00000000e+00,\n",
              "        0.00000000e+00, 0.00000000e+00, 0.00000000e+00, 0.00000000e+00,\n",
              "        0.00000000e+00, 0.00000000e+00, 0.00000000e+00, 0.00000000e+00,\n",
              "        0.00000000e+00, 0.00000000e+00, 0.00000000e+00, 0.00000000e+00,\n",
              "        0.00000000e+00, 0.00000000e+00, 0.00000000e+00, 0.00000000e+00,\n",
              "        0.00000000e+00, 0.00000000e+00, 0.00000000e+00, 0.00000000e+00,\n",
              "        0.00000000e+00, 0.00000000e+00, 0.00000000e+00, 0.00000000e+00,\n",
              "        0.00000000e+00, 0.00000000e+00, 0.00000000e+00, 0.00000000e+00,\n",
              "        0.00000000e+00, 0.00000000e+00, 0.00000000e+00, 0.00000000e+00,\n",
              "        0.00000000e+00, 0.00000000e+00, 0.00000000e+00, 0.00000000e+00,\n",
              "        0.00000000e+00, 0.00000000e+00, 0.00000000e+00, 0.00000000e+00,\n",
              "        0.00000000e+00, 0.00000000e+00, 0.00000000e+00, 0.00000000e+00,\n",
              "        0.00000000e+00, 0.00000000e+00, 0.00000000e+00, 0.00000000e+00,\n",
              "        0.00000000e+00, 0.00000000e+00, 0.00000000e+00, 0.00000000e+00,\n",
              "        0.00000000e+00, 0.00000000e+00, 0.00000000e+00, 0.00000000e+00,\n",
              "        0.00000000e+00, 1.05964792e-02, 3.72585883e-02, 1.88002051e-03,\n",
              "        0.00000000e+00, 0.00000000e+00, 0.00000000e+00, 0.00000000e+00,\n",
              "        0.00000000e+00, 0.00000000e+00, 0.00000000e+00, 0.00000000e+00,\n",
              "        0.00000000e+00, 0.00000000e+00, 0.00000000e+00, 0.00000000e+00,\n",
              "        0.00000000e+00, 0.00000000e+00, 0.00000000e+00, 0.00000000e+00,\n",
              "        1.33310545e-02, 3.33276363e-02, 7.81063066e-02, 1.33310545e-01,\n",
              "        2.32609810e-01, 4.15826354e-01, 5.56315160e-01, 7.87728593e-01,\n",
              "        8.65493078e-01, 8.81387797e-01, 7.07400444e-01, 4.29328320e-01,\n",
              "        3.14988891e-01, 3.37549137e-01, 1.89882071e-01, 1.27670484e-01,\n",
              "        4.17022731e-02, 7.17826013e-03, 0.00000000e+00, 0.00000000e+00,\n",
              "        0.00000000e+00, 0.00000000e+00, 5.46915057e-03, 0.00000000e+00,\n",
              "        0.00000000e+00, 7.00734917e-03, 3.29858144e-02, 2.43377200e-01,\n",
              "        7.63801060e-01, 1.81319433e+00, 3.85660571e+00, 7.46043411e+00,\n",
              "        1.30828918e+01, 2.07544010e+01, 2.84171936e+01, 3.36204068e+01,\n",
              "        3.43083234e+01, 3.00459750e+01, 2.34088190e+01, 1.66289523e+01,\n",
              "        1.10104256e+01, 6.38591694e+00, 2.99606905e+00, 1.31755256e+00,\n",
              "        5.98530166e-01, 2.67475645e-01, 9.10955392e-02, 1.00837464e-02,\n",
              "        0.00000000e+00, 0.00000000e+00, 0.00000000e+00, 0.00000000e+00,\n",
              "        8.37463681e-03, 1.04426594e-01, 5.65886173e-01, 2.00153820e+00,\n",
              "        5.32541446e+00, 1.18207144e+01, 2.27325244e+01, 4.17253461e+01,\n",
              "        6.73584003e+01, 9.48538711e+01, 1.18695778e+02, 1.34140489e+02,\n",
              "        1.37553922e+02, 1.27584686e+02, 1.04960349e+02, 7.78960861e+01,\n",
              "        5.19567595e+01, 3.16200649e+01, 1.73348146e+01, 8.58178089e+00,\n",
              "        3.60844300e+00, 1.35515297e+00, 2.93966843e-01, 8.03281490e-03,\n",
              "        0.00000000e+00, 0.00000000e+00, 0.00000000e+00, 0.00000000e+00,\n",
              "        1.23226799e-01, 6.31003247e-01, 2.62279952e+00, 7.64860708e+00,\n",
              "        1.78670313e+01, 3.46513417e+01, 6.03196035e+01, 9.46294650e+01,\n",
              "        1.29848744e+02, 1.59104598e+02, 1.77739019e+02, 1.86283029e+02,\n",
              "        1.84837464e+02, 1.75009058e+02, 1.53626560e+02, 1.24226799e+02,\n",
              "        9.08432747e+01, 6.03958298e+01, 3.61919330e+01, 1.95764827e+01,\n",
              "        8.67338916e+00, 3.15364895e+00, 6.61596308e-01, 5.53751495e-02,\n",
              "        0.00000000e+00, 0.00000000e+00, 0.00000000e+00, 1.62365408e-02,\n",
              "        5.63664331e-01, 2.20799863e+00, 7.06802256e+00, 1.78767732e+01,\n",
              "        3.59830798e+01, 6.25503333e+01, 9.68328491e+01, 1.32213981e+02,\n",
              "        1.57765510e+02, 1.68433088e+02, 1.65315502e+02, 1.60101350e+02,\n",
              "        1.55052982e+02, 1.52975731e+02, 1.50545377e+02, 1.35696462e+02,\n",
              "        1.09686207e+02, 7.89682106e+01, 5.09577850e+01, 2.97796958e+01,\n",
              "        1.38547257e+01, 4.41702273e+00, 9.62057768e-01, 8.16954367e-02,\n",
              "        0.00000000e+00, 0.00000000e+00, 0.00000000e+00, 2.27824304e-01,\n",
              "        1.34148009e+00, 4.53050761e+00, 1.26754401e+01, 2.81245941e+01,\n",
              "        5.16021193e+01, 8.46790292e+01, 1.19942232e+02, 1.44301829e+02,\n",
              "        1.51552555e+02, 1.38134678e+02, 1.15198599e+02, 1.00764314e+02,\n",
              "        1.00299265e+02, 1.10868740e+02, 1.27873868e+02, 1.32970603e+02,\n",
              "        1.15569133e+02, 8.83206290e+01, 6.04542813e+01, 3.55867373e+01,\n",
              "        1.70623825e+01, 5.70654589e+00, 1.15997265e+00, 1.24081354e-01,\n",
              "        0.00000000e+00, 0.00000000e+00, 0.00000000e+00, 3.09861562e-01,\n",
              "        2.06221159e+00, 6.28422492e+00, 1.65951119e+01, 3.44824816e+01,\n",
              "        6.27039822e+01, 9.75105110e+01, 1.28184242e+02, 1.40104939e+02,\n",
              "        1.29150743e+02, 9.94308665e+01, 7.09312938e+01, 5.92124423e+01,\n",
              "        7.01316014e+01, 9.49909417e+01, 1.22248334e+02, 1.33439241e+02,\n",
              "        1.18727568e+02, 8.98959152e+01, 5.96896257e+01, 3.48060161e+01,\n",
              "        1.63139634e+01, 5.40146983e+00, 1.12801231e+00, 1.17415826e-01,\n",
              "        0.00000000e+00, 0.00000000e+00, 0.00000000e+00, 2.43548111e-01,\n",
              "        2.30900701e+00, 6.90206802e+00, 1.79605196e+01, 3.70902410e+01,\n",
              "        6.57873868e+01, 9.97783285e+01, 1.28408135e+02, 1.34976243e+02,\n",
              "        1.16130063e+02, 8.21297214e+01, 5.64028371e+01, 5.51835584e+01,\n",
              "        7.70950265e+01, 1.10280978e+02, 1.37079986e+02, 1.37298581e+02,\n",
              "        1.12476842e+02, 7.93047342e+01, 4.90830627e+01, 2.62941378e+01,\n",
              "        1.21013502e+01, 4.20714408e+00, 8.13707059e-01, 1.18954025e-01,\n",
              "        0.00000000e+00, 0.00000000e+00, 0.00000000e+00, 1.32626901e-01,\n",
              "        1.83267817e+00, 6.52862759e+00, 1.66318578e+01, 3.43259272e+01,\n",
              "        6.20616989e+01, 9.64694924e+01, 1.24898650e+02, 1.36014186e+02,\n",
              "        1.23666382e+02, 9.46356178e+01, 7.55164929e+01, 8.33831824e+01,\n",
              "        1.12987524e+02, 1.42803623e+02, 1.49976585e+02, 1.28457358e+02,\n",
              "        9.22592719e+01, 5.74154845e+01, 3.20736626e+01, 1.59835925e+01,\n",
              "        7.41702273e+00, 2.43069561e+00, 6.05195693e-01, 2.35857118e-02,\n",
              "        0.00000000e+00, 0.00000000e+00, 0.00000000e+00, 1.35019655e-01,\n",
              "        1.22491882e+00, 4.83370364e+00, 1.26017775e+01, 2.69386430e+01,\n",
              "        5.13879679e+01, 8.36991967e+01, 1.15858144e+02, 1.38799009e+02,\n",
              "        1.44262861e+02, 1.30974534e+02, 1.21421296e+02, 1.36710135e+02,\n",
              "        1.60233464e+02, 1.63757990e+02, 1.39572039e+02, 1.00177747e+02,\n",
              "        6.20213639e+01, 3.43119125e+01, 1.72852504e+01, 8.38113143e+00,\n",
              "        3.67082550e+00, 1.14083063e+00, 3.26781747e-01, 3.34985473e-02,\n",
              "        0.00000000e+00, 0.00000000e+00, 0.00000000e+00, 7.77644847e-02,\n",
              "        5.75286276e-01, 2.71235686e+00, 7.89249701e+00, 1.82731157e+01,\n",
              "        3.72582465e+01, 6.54093317e+01, 9.99800034e+01, 1.38390019e+02,\n",
              "        1.67916766e+02, 1.76495813e+02, 1.76720219e+02, 1.87889250e+02,\n",
              "        1.84499060e+02, 1.52336182e+02, 1.06283712e+02, 6.42696975e+01,\n",
              "        3.48817296e+01, 1.81444198e+01, 9.15364895e+00, 4.35925483e+00,\n",
              "        1.72739703e+00, 6.07930268e-01, 1.42710648e-01, 8.71645873e-03,\n",
              "        0.00000000e+00, 0.00000000e+00, 0.00000000e+00, 1.36728764e-02,\n",
              "        1.93129380e-01, 1.45393950e+00, 4.37822594e+00, 1.12315843e+01,\n",
              "        2.45783627e+01, 4.81411724e+01, 8.52242352e+01, 1.34902923e+02,\n",
              "        1.81252435e+02, 2.06725346e+02, 2.12670313e+02, 2.06940181e+02,\n",
              "        1.74305247e+02, 1.20758845e+02, 7.12093659e+01, 3.92676466e+01,\n",
              "        2.09275338e+01, 1.12469663e+01, 5.79695778e+00, 2.68962571e+00,\n",
              "        1.09109554e+00, 3.32592719e-01, 2.17056913e-02, 0.00000000e+00,\n",
              "        0.00000000e+00, 0.00000000e+00, 0.00000000e+00, 1.46983422e-02,\n",
              "        8.59682106e-02, 8.41394633e-01, 3.05298240e+00, 8.51187831e+00,\n",
              "        2.02556828e+01, 4.35223039e+01, 8.35631516e+01, 1.37632541e+02,\n",
              "        1.89149376e+02, 2.12693044e+02, 2.11762263e+02, 1.91168176e+02,\n",
              "        1.47861904e+02, 9.55578534e+01, 5.53448983e+01, 3.19989745e+01,\n",
              "        1.81447616e+01, 9.86754401e+00, 5.54862417e+00, 2.68142198e+00,\n",
              "        1.00752008e+00, 2.34489831e-01, 0.00000000e+00, 0.00000000e+00,\n",
              "        0.00000000e+00, 0.00000000e+00, 0.00000000e+00, 3.86258759e-02,\n",
              "        8.69936763e-02, 9.69406939e-01, 3.95317040e+00, 1.13949752e+01,\n",
              "        2.73739532e+01, 5.64693215e+01, 1.01898992e+02, 1.52855068e+02,\n",
              "        1.87726542e+02, 1.90338233e+02, 1.77602119e+02, 1.58194497e+02,\n",
              "        1.27400273e+02, 8.91731328e+01, 5.66821056e+01, 3.51133140e+01,\n",
              "        2.10847718e+01, 1.16990258e+01, 6.61767219e+00, 3.64262519e+00,\n",
              "        1.35925483e+00, 1.89369339e-01, 0.00000000e+00, 0.00000000e+00,\n",
              "        0.00000000e+00, 0.00000000e+00, 2.73457529e-03, 1.76038284e-02,\n",
              "        2.38249872e-01, 1.90240984e+00, 7.37241497e+00, 2.00675098e+01,\n",
              "        4.43589130e+01, 8.39073663e+01, 1.28803794e+02, 1.62633738e+02,\n",
              "        1.67982567e+02, 1.48136045e+02, 1.34674586e+02, 1.27911981e+02,\n",
              "        1.15689626e+02, 9.12215006e+01, 6.44674415e+01, 4.18335327e+01,\n",
              "        2.59755597e+01, 1.49159118e+01, 8.60963938e+00, 4.57733721e+00,\n",
              "        1.70278585e+00, 9.82737994e-02, 1.57238079e-02, 0.00000000e+00,\n",
              "        0.00000000e+00, 0.00000000e+00, 3.93095197e-03, 9.40010255e-03,\n",
              "        5.57511536e-01, 4.24850453e+00, 1.33660913e+01, 3.30763972e+01,\n",
              "        6.67564519e+01, 1.09531362e+02, 1.44154504e+02, 1.52278072e+02,\n",
              "        1.30452743e+02, 1.04306956e+02, 9.99916254e+01, 1.09009571e+02,\n",
              "        1.09180653e+02, 9.37735430e+01, 7.17080841e+01, 4.81774056e+01,\n",
              "        3.03211417e+01, 1.75939156e+01, 1.04541104e+01, 5.13143052e+00,\n",
              "        1.50606734e+00, 8.35754572e-02, 6.66552726e-03, 0.00000000e+00,\n",
              "        0.00000000e+00, 0.00000000e+00, 0.00000000e+00, 4.64877799e-02,\n",
              "        1.05896428e+00, 7.06340796e+00, 2.05423005e+01, 4.77690993e+01,\n",
              "        8.60832336e+01, 1.24002564e+02, 1.41201333e+02, 1.26982909e+02,\n",
              "        9.77586737e+01, 7.75564861e+01, 8.35701589e+01, 1.01021022e+02,\n",
              "        1.08183729e+02, 9.69998291e+01, 7.70292258e+01, 5.29902581e+01,\n",
              "        3.30047855e+01, 1.94368484e+01, 1.10885319e+01, 5.00341822e+00,\n",
              "        1.02136387e+00, 2.68330200e-02, 0.00000000e+00, 0.00000000e+00,\n",
              "        0.00000000e+00, 0.00000000e+00, 0.00000000e+00, 7.46880875e-02,\n",
              "        1.44163391e+00, 9.26491198e+00, 2.75113656e+01, 5.88830969e+01,\n",
              "        9.54705179e+01, 1.25571355e+02, 1.33435823e+02, 1.13493591e+02,\n",
              "        9.04106990e+01, 8.04057426e+01, 9.18576312e+01, 1.09154845e+02,\n",
              "        1.13510511e+02, 1.01230559e+02, 8.01868057e+01, 5.48889079e+01,\n",
              "        3.35440096e+01, 1.88576312e+01, 9.85899846e+00, 3.85233293e+00,\n",
              "        6.45017946e-01, 4.34113827e-02, 0.00000000e+00, 0.00000000e+00,\n",
              "        0.00000000e+00, 0.00000000e+00, 0.00000000e+00, 4.61459580e-02,\n",
              "        1.37908050e+00, 1.03102034e+01, 3.08533584e+01, 6.19124936e+01,\n",
              "        9.66762947e+01, 1.24974534e+02, 1.37730132e+02, 1.31250214e+02,\n",
              "        1.21266621e+02, 1.19904119e+02, 1.27089899e+02, 1.32364211e+02,\n",
              "        1.25328662e+02, 1.04919330e+02, 7.90182875e+01, 5.12922577e+01,\n",
              "        2.99849598e+01, 1.50676807e+01, 7.23483165e+00, 2.39087335e+00,\n",
              "        3.00974192e-01, 2.97385062e-02, 0.00000000e+00, 0.00000000e+00,\n",
              "        0.00000000e+00, 0.00000000e+00, 0.00000000e+00, 6.63134507e-02,\n",
              "        9.62912323e-01, 8.44795761e+00, 2.72109041e+01, 5.53782259e+01,\n",
              "        8.93146471e+01, 1.22733379e+02, 1.51460947e+02, 1.68364553e+02,\n",
              "        1.75264570e+02, 1.74542300e+02, 1.69058964e+02, 1.54116903e+02,\n",
              "        1.28817809e+02, 9.77345753e+01, 6.63640403e+01, 3.90695608e+01,\n",
              "        2.09350538e+01, 9.77166296e+00, 4.19159118e+00, 1.15826354e+00,\n",
              "        1.69030935e-01, 3.64040335e-02, 0.00000000e+00, 0.00000000e+00,\n",
              "        0.00000000e+00, 0.00000000e+00, 0.00000000e+00, 2.92257734e-02,\n",
              "        4.88121689e-01, 4.46590326e+00, 1.68085797e+01, 3.83098616e+01,\n",
              "        6.79090754e+01, 1.01882242e+02, 1.35889592e+02, 1.65425226e+02,\n",
              "        1.82072124e+02, 1.81906170e+02, 1.63504871e+02, 1.35450009e+02,\n",
              "        1.01675953e+02, 6.85884464e+01, 4.07796958e+01, 2.19547086e+01,\n",
              "        1.06844984e+01, 4.80071783e+00, 1.83250726e+00, 5.27602119e-01,\n",
              "        7.70808409e-02, 1.28183217e-02, 0.00000000e+00, 0.00000000e+00,\n",
              "        0.00000000e+00, 0.00000000e+00, 0.00000000e+00, 0.00000000e+00,\n",
              "        5.36660400e-02, 1.00427277e+00, 5.49957272e+00, 1.49030935e+01,\n",
              "        3.05142711e+01, 5.10343531e+01, 7.23741241e+01, 9.01396343e+01,\n",
              "        1.00363699e+02, 9.83987353e+01, 8.53886515e+01, 6.53237053e+01,\n",
              "        4.48354127e+01, 2.66128867e+01, 1.45474278e+01, 7.53204580e+00,\n",
              "        3.44847035e+00, 1.36677491e+00, 5.69133481e-01, 1.71423688e-01,\n",
              "        7.69099299e-03, 0.00000000e+00, 0.00000000e+00, 0.00000000e+00,\n",
              "        0.00000000e+00, 0.00000000e+00, 0.00000000e+00, 0.00000000e+00,\n",
              "        0.00000000e+00, 5.46915057e-02, 5.28114852e-01, 1.34130918e+00,\n",
              "        2.71543326e+00, 4.54691506e+00, 6.77815758e+00, 8.21568963e+00,\n",
              "        8.88053324e+00, 9.19603487e+00, 8.68227653e+00, 6.92479918e+00,\n",
              "        4.55135874e+00, 2.77371390e+00, 1.63595967e+00, 8.78311400e-01,\n",
              "        3.64382157e-01, 4.58041360e-02, 1.38437874e-02, 4.15313622e-02,\n",
              "        0.00000000e+00, 0.00000000e+00, 0.00000000e+00, 0.00000000e+00,\n",
              "        0.00000000e+00, 0.00000000e+00, 0.00000000e+00, 0.00000000e+00,\n",
              "        0.00000000e+00, 0.00000000e+00, 2.56366433e-03, 3.57203897e-02,\n",
              "        8.57972996e-02, 1.08528457e-01, 1.27499573e-01, 1.78943770e-01,\n",
              "        1.68860024e-01, 1.50572552e-01, 1.04084772e-01, 1.74329175e-02,\n",
              "        1.35019655e-02, 3.40112801e-02, 3.69167664e-02, 6.49461630e-03,\n",
              "        0.00000000e+00, 3.58913006e-03, 5.98188344e-03, 4.78550675e-03,\n",
              "        0.00000000e+00, 0.00000000e+00, 0.00000000e+00, 0.00000000e+00,\n",
              "        0.00000000e+00, 0.00000000e+00, 0.00000000e+00, 0.00000000e+00,\n",
              "        0.00000000e+00, 0.00000000e+00, 0.00000000e+00, 0.00000000e+00,\n",
              "        0.00000000e+00, 0.00000000e+00, 0.00000000e+00, 0.00000000e+00,\n",
              "        0.00000000e+00, 0.00000000e+00, 0.00000000e+00, 0.00000000e+00,\n",
              "        0.00000000e+00, 0.00000000e+00, 0.00000000e+00, 0.00000000e+00,\n",
              "        0.00000000e+00, 0.00000000e+00, 0.00000000e+00, 0.00000000e+00,\n",
              "        0.00000000e+00, 0.00000000e+00, 0.00000000e+00, 0.00000000e+00]])"
            ]
          },
          "metadata": {},
          "execution_count": 25
        }
      ]
    },
    {
      "cell_type": "code",
      "source": [
        "print(np.dot(W, x_3))\n",
        "print(np.dot(W, x_18))"
      ],
      "metadata": {
        "colab": {
          "base_uri": "https://localhost:8080/"
        },
        "id": "f1G2kfpm0-a-",
        "outputId": "df6c462d-6128-4833-e3ba-02e991bb0588"
      },
      "execution_count": null,
      "outputs": [
        {
          "output_type": "stream",
          "name": "stdout",
          "text": [
            "[[1306671.45787045]]\n",
            "[[3545954.03537857]]\n"
          ]
        }
      ]
    },
    {
      "cell_type": "code",
      "source": [
        "def predict(x, W, b):\n",
        "    return sigmoid_double(np.dot(W, x) + b)\n",
        "\n",
        "b=-45\n",
        "\n",
        "print(predict(x_3, W, b))\n",
        "print(predict(x_18, W, b))"
      ],
      "metadata": {
        "colab": {
          "base_uri": "https://localhost:8080/"
        },
        "id": "E2X8IdN6yXm-",
        "outputId": "e9965ea9-ffb5-4b74-8055-469cdee6f33e"
      },
      "execution_count": null,
      "outputs": [
        {
          "output_type": "stream",
          "name": "stdout",
          "text": [
            "[[1.]]\n",
            "[[1.]]\n"
          ]
        }
      ]
    },
    {
      "cell_type": "code",
      "source": [
        "def encode_label(j):  # <1>\n",
        "    e = np.zeros((10, 1))\n",
        "    e[j] = 1.0\n",
        "    return e\n",
        "\n",
        "# <1> We one-hot encode indices to vectors of length 10.\n",
        "# end::encoding[]\n",
        "\n",
        "\n",
        "# tag::shape_load[]\n",
        "def shape_data(data):\n",
        "    features = [np.reshape(x, (784, 1)) for x in data[0]]  # <1>\n",
        "\n",
        "    labels = [encode_label(y) for y in data[1]]  # <2>\n",
        "\n",
        "    return list(zip(features, labels))  # <3>\n",
        "\n",
        "\n",
        "def load_data_impl():\n",
        "    # file retrieved by:\n",
        "    #   wget https://s3.amazonaws.com/img-datasets/mnist.npz -O code/dlgo/nn/mnist.npz\n",
        "    # code based on:\n",
        "    #   site-packages/keras/datasets/mnist.py\n",
        "    path = 'mnist.npz'\n",
        "    f = np.load(path)\n",
        "    x_train, y_train = f['x_train'], f['y_train']\n",
        "    x_test, y_test = f['x_test'], f['y_test']\n",
        "    f.close()\n",
        "    return (x_train, y_train), (x_test, y_test)\n",
        "\n",
        "def load_data():\n",
        "    train_data, test_data = load_data_impl()\n",
        "    return shape_data(train_data), shape_data(test_data)\n",
        "\n",
        "# tag::average_digit[]\n",
        "def average_digit(data, digit):  # <1>\n",
        "    filtered_data = [x[0] for x in data if np.argmax(x[1]) == digit]\n",
        "    filtered_array = np.asarray(filtered_data)\n",
        "    return np.average(filtered_array, axis=0)\n",
        "\n",
        "\n",
        "train, test = load_data()\n",
        "avg_eight = average_digit(train, 8)  # <2>\n",
        "\n",
        "# <1> We compute the average over all samples in our data representing a given digit.\n",
        "# <2> We use the average eight as parameters for a simple model to detect eights.\n",
        "# end::average_digit[]\n",
        "\n",
        "img = (np.reshape(avg_eight, (28, 28)))\n",
        "plt.imshow(img)\n",
        "plt.show()\n",
        "# end::display_digit[]\n",
        "\n",
        "# tag::eval_eight[]\n",
        "x_3 = train[2][0]    # <1>\n",
        "x_18 = train[17][0]  # <2>\n",
        "\n",
        "W = np.transpose(avg_eight)\n",
        "np.dot(W, x_3)   # <3>\n",
        "np.dot(W, x_18)  # <4>\n",
        "\n",
        "# <1> Training sample at index 2 is a \"4\".\n",
        "# <2> Training sample at index 17 is an \"8\"\n",
        "# <3> This evaluates to about 20.1.\n",
        "# <4> This term is much bigger, about 54.2.\n",
        "# end::eval_eight[]\n",
        "\n",
        "\n",
        "# tag::predict_simple[]\n",
        "def predict(x, W, b):  # <1>\n",
        "    return sigmoid_double(np.dot(W, x) + b)\n",
        "\n",
        "\n",
        "b = -45  # <2>\n",
        "\n",
        "print(predict(x_3, W, b))   # <3>\n",
        "print(predict(x_18, W, b))  # <4> 0.96\n",
        "\n",
        "def evaluate(data, digit, threshold, W, b):  # <1>\n",
        "    total_samples = 1.0 * len(data)\n",
        "    correct_predictions = 0\n",
        "    for x in data:\n",
        "        if predict(x[0], W, b) > threshold and np.argmax(x[1]) == digit:  # <2>\n",
        "            correct_predictions += 1\n",
        "        if predict(x[0], W, b) <= threshold and np.argmax(x[1]) != digit:  # <3>\n",
        "            correct_predictions += 1\n",
        "    return correct_predictions / total_samples\n",
        "\n",
        "# <1> As evaluation metric we choose accuracy, the ratio of correct predictions among all.\n",
        "# <2> Predicting an instance of an eight as \"8\" is a correct prediction.\n",
        "# <3> If the prediction is below our threshold and the sample is not an \"8\", we also predicted correctly.\n",
        "# end::evaluate_simple[]\n",
        "\n",
        "\n",
        "# tag::evaluate_example[]\n",
        "a1 = evaluate(data=train, digit=8, threshold=0.5, W=W, b=b)  # <1>\n",
        "\n",
        "a2 = evaluate(data=test, digit=8, threshold=0.5, W=W, b=b)   # <2>\n",
        "\n",
        "eight_test = [x for x in test if np.argmax(x[1]) == 8]\n",
        "a3 = evaluate(data=eight_test, digit=8, threshold=0.5, W=W, b=b)  # <3>\n",
        "\n",
        "print(a1)\n",
        "print(a2)\n",
        "print(a3)"
      ],
      "metadata": {
        "colab": {
          "base_uri": "https://localhost:8080/",
          "height": 352
        },
        "id": "MVqbh4Gv2T_A",
        "outputId": "0c48b7b6-ac4a-4eb0-e475-feffec947f8f"
      },
      "execution_count": null,
      "outputs": [
        {
          "output_type": "display_data",
          "data": {
            "text/plain": [
              "<Figure size 432x288 with 1 Axes>"
            ],
            "image/png": "[encoded data removed]"
          },
          "metadata": {
            "needs_background": "light"
          }
        },
        {
          "output_type": "stream",
          "name": "stdout",
          "text": [
            "[[1.]]\n",
            "[[1.]]\n",
            "0.09751666666666667\n",
            "0.0974\n",
            "1.0\n"
          ]
        }
      ]
    },
    {
      "cell_type": "markdown",
      "source": [
        "#Keras"
      ],
      "metadata": {
        "id": "ikQZ5LX-IyCv"
      }
    },
    {
      "cell_type": "code",
      "source": [
        "import keras\n",
        "from keras.datasets import mnist\n",
        "from keras.models import Sequential\n",
        "from keras.layers import Dense"
      ],
      "metadata": {
        "id": "HozKHJciA0AN"
      },
      "execution_count": 1,
      "outputs": []
    },
    {
      "cell_type": "code",
      "source": [
        "(x_train, y_train), (x_test, y_test) = mnist.load_data()"
      ],
      "metadata": {
        "colab": {
          "base_uri": "https://localhost:8080/"
        },
        "id": "RE1XQ4q9JVKh",
        "outputId": "c19f84bd-99cf-41f6-b24e-ab57acf0b7c2"
      },
      "execution_count": 2,
      "outputs": [
        {
          "output_type": "stream",
          "name": "stdout",
          "text": [
            "Downloading data from https://storage.googleapis.com/tensorflow/tf-keras-datasets/mnist.npz\n",
            "11490434/11490434 [==============================] - 1s 0us/step\n"
          ]
        }
      ]
    },
    {
      "cell_type": "code",
      "source": [
        "x_train = x_train.reshape(60000, 784)\n",
        "x_test = x_test.reshape(10000, 784)\n",
        "x_train = x_train.astype('float32')\n",
        "x_test = x_test.astype('float32')\n",
        "x_train /= 255\n",
        "x_test /= 255"
      ],
      "metadata": {
        "id": "tc0BEjsHOaYI"
      },
      "execution_count": 3,
      "outputs": []
    },
    {
      "cell_type": "code",
      "source": [
        "y_train = keras.utils.to_categorical(y_train, 10)\n",
        "y_test = keras.utils.to_categorical(y_test, 10)"
      ],
      "metadata": {
        "id": "xFxiKaLJSIAb"
      },
      "execution_count": 4,
      "outputs": []
    },
    {
      "cell_type": "code",
      "source": [
        "model = Sequential()\n",
        "model.add(Dense(392, activation='sigmoid', input_shape=(784,)))\n",
        "model.add(Dense(196, activation='sigmoid'))\n",
        "model.add(Dense(10, activation='sigmoid'))\n",
        "model.summary()"
      ],
      "metadata": {
        "colab": {
          "base_uri": "https://localhost:8080/"
        },
        "id": "pDznTr8tSSnb",
        "outputId": "546ddd98-6e46-4efd-ad3e-a4db4ae8f354"
      },
      "execution_count": 5,
      "outputs": [
        {
          "output_type": "stream",
          "name": "stdout",
          "text": [
            "Model: \"sequential\"\n",
            "_________________________________________________________________\n",
            " Layer (type)                Output Shape              Param #   \n",
            "=================================================================\n",
            " dense (Dense)               (None, 392)               307720    \n",
            "                                                                 \n",
            " dense_1 (Dense)             (None, 196)               77028     \n",
            "                                                                 \n",
            " dense_2 (Dense)             (None, 10)                1970      \n",
            "                                                                 \n",
            "=================================================================\n",
            "Total params: 386,718\n",
            "Trainable params: 386,718\n",
            "Non-trainable params: 0\n",
            "_________________________________________________________________\n"
          ]
        }
      ]
    },
    {
      "cell_type": "code",
      "source": [
        "model.compile(loss='mean_squared_error', optimizer='sgd', metrics=['accuracy'])"
      ],
      "metadata": {
        "id": "BGFFchr3Tgxq"
      },
      "execution_count": 9,
      "outputs": []
    },
    {
      "cell_type": "code",
      "source": [
        "model.fit(x_train, y_train,\n",
        "          batch_size=128,\n",
        "          epochs=20)\n",
        "score = model.evaluate(x_test, y_test)\n",
        "print('Test loss:', score[0])\n",
        "print('Test accuracy:', score[1])"
      ],
      "metadata": {
        "colab": {
          "base_uri": "https://localhost:8080/"
        },
        "id": "Vo50-pypT1X5",
        "outputId": "def777e2-097d-4c09-c41c-2142e64cb3d5"
      },
      "execution_count": 10,
      "outputs": [
        {
          "output_type": "stream",
          "name": "stdout",
          "text": [
            "Epoch 1/20\n",
            "469/469 [==============================] - 5s 9ms/step - loss: 0.1256 - accuracy: 0.0955\n",
            "Epoch 2/20\n",
            "469/469 [==============================] - 5s 10ms/step - loss: 0.0915 - accuracy: 0.1372\n",
            "Epoch 3/20\n",
            "469/469 [==============================] - 5s 10ms/step - loss: 0.0902 - accuracy: 0.1253\n",
            "Epoch 4/20\n",
            "469/469 [==============================] - 4s 8ms/step - loss: 0.0900 - accuracy: 0.1229\n",
            "Epoch 5/20\n",
            "469/469 [==============================] - 4s 10ms/step - loss: 0.0899 - accuracy: 0.1192\n",
            "Epoch 6/20\n",
            "469/469 [==============================] - 5s 10ms/step - loss: 0.0898 - accuracy: 0.1173\n",
            "Epoch 7/20\n",
            "469/469 [==============================] - 4s 9ms/step - loss: 0.0898 - accuracy: 0.1164\n",
            "Epoch 8/20\n",
            "469/469 [==============================] - 5s 10ms/step - loss: 0.0898 - accuracy: 0.1179\n",
            "Epoch 9/20\n",
            "469/469 [==============================] - 5s 10ms/step - loss: 0.0898 - accuracy: 0.1177\n",
            "Epoch 10/20\n",
            "469/469 [==============================] - 4s 9ms/step - loss: 0.0897 - accuracy: 0.1166\n",
            "Epoch 11/20\n",
            "469/469 [==============================] - 5s 11ms/step - loss: 0.0897 - accuracy: 0.1166\n",
            "Epoch 12/20\n",
            "469/469 [==============================] - 4s 9ms/step - loss: 0.0897 - accuracy: 0.1175\n",
            "Epoch 13/20\n",
            "469/469 [==============================] - 4s 9ms/step - loss: 0.0897 - accuracy: 0.1186\n",
            "Epoch 14/20\n",
            "469/469 [==============================] - 6s 12ms/step - loss: 0.0896 - accuracy: 0.1174\n",
            "Epoch 15/20\n",
            "469/469 [==============================] - 4s 8ms/step - loss: 0.0896 - accuracy: 0.1200\n",
            "Epoch 16/20\n",
            "469/469 [==============================] - 4s 8ms/step - loss: 0.0896 - accuracy: 0.1212\n",
            "Epoch 17/20\n",
            "469/469 [==============================] - 5s 11ms/step - loss: 0.0896 - accuracy: 0.1220\n",
            "Epoch 18/20\n",
            "469/469 [==============================] - 4s 9ms/step - loss: 0.0896 - accuracy: 0.1238\n",
            "Epoch 19/20\n",
            "469/469 [==============================] - 4s 10ms/step - loss: 0.0895 - accuracy: 0.1215\n",
            "Epoch 20/20\n",
            "469/469 [==============================] - 5s 11ms/step - loss: 0.0895 - accuracy: 0.1222\n",
            "313/313 [==============================] - 1s 3ms/step - loss: 0.0895 - accuracy: 0.1247\n",
            "Test loss: 0.08949200809001923\n",
            "Test accuracy: 0.12470000237226486\n"
          ]
        }
      ]
    }
  ]
}