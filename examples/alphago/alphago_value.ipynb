{
  "nbformat": 4,
  "nbformat_minor": 0,
  "metadata": {
    "colab": {
      "provenance": [],
      "gpuType": "T4"
    },
    "kernelspec": {
      "name": "python3",
      "display_name": "Python 3"
    },
    "language_info": {
      "name": "python"
    },
    "accelerator": "GPU",
    "gpuClass": "standard"
  },
  "cells": [
    {
      "cell_type": "markdown",
      "source": [
        "#Третий и последний этап обучения AlphaGo."
      ],
      "metadata": {
        "id": "CfC2uCjppXaD"
      }
    },
    {
      "cell_type": "code",
      "source": [
        "#from google.colab import drive\n",
        "#drive.mount('/content/drive')"
      ],
      "metadata": {
        "id": "Nn56uokdl_6Z"
      },
      "execution_count": 1,
      "outputs": []
    },
    {
      "cell_type": "code",
      "source": [
        "#забираем из Google Drive если есть)))\n",
        "!cp ./drive/MyDrive/colab1/dlgo.zip ./dlgo.zip"
      ],
      "metadata": {
        "id": "Dc1uoWilmCm4"
      },
      "execution_count": 2,
      "outputs": []
    },
    {
      "cell_type": "code",
      "execution_count": 3,
      "metadata": {
        "colab": {
          "base_uri": "https://localhost:8080/"
        },
        "id": "4iQsSJOMl2gz",
        "outputId": "bd769032-a237-4c2e-9aa8-e71d853e1f09"
      },
      "outputs": [
        {
          "output_type": "stream",
          "name": "stdout",
          "text": [
            "Archive:  dlgo.zip\n",
            "   creating: dlgo/\n",
            "   creating: dlgo/agent/\n",
            "  inflating: dlgo/agent/base.py      \n",
            "  inflating: dlgo/agent/helpers.py   \n",
            "  inflating: dlgo/agent/naive.py     \n",
            "  inflating: dlgo/agent/pg.py        \n",
            "  inflating: dlgo/agent/predict.py   \n",
            "  inflating: dlgo/agent/termination.py  \n",
            " extracting: dlgo/agent/__init__.py  \n",
            "   creating: dlgo/agent/__pycache__/\n",
            "  inflating: dlgo/agent/__pycache__/base.cpython-310.pyc  \n",
            "  inflating: dlgo/agent/__pycache__/base.cpython-36.pyc  \n",
            "  inflating: dlgo/agent/__pycache__/helpers.cpython-310.pyc  \n",
            "  inflating: dlgo/agent/__pycache__/helpers.cpython-36.pyc  \n",
            "  inflating: dlgo/agent/__pycache__/naive.cpython-310.pyc  \n",
            "  inflating: dlgo/agent/__pycache__/naive.cpython-36.pyc  \n",
            "  inflating: dlgo/agent/__pycache__/predict.cpython-310.pyc  \n",
            "  inflating: dlgo/agent/__pycache__/predict.cpython-36.pyc  \n",
            "  inflating: dlgo/agent/__pycache__/termination.cpython-310.pyc  \n",
            "  inflating: dlgo/agent/__pycache__/termination.cpython-36.pyc  \n",
            "  inflating: dlgo/agent/__pycache__/__init__.cpython-310.pyc  \n",
            "  inflating: dlgo/agent/__pycache__/__init__.cpython-36.pyc  \n",
            "   creating: dlgo/data/\n",
            "  inflating: dlgo/data/generator.py  \n",
            "  inflating: dlgo/data/index_processor.py  \n",
            "  inflating: dlgo/data/parallel_processor.py  \n",
            "  inflating: dlgo/data/processor.py  \n",
            "  inflating: dlgo/data/sampling.py   \n",
            "  inflating: dlgo/data/__init__.py   \n",
            "   creating: dlgo/data/__pycache__/\n",
            "  inflating: dlgo/data/__pycache__/index_processor.cpython-310.pyc  \n",
            "  inflating: dlgo/data/__pycache__/parallel_processor.cpython-310.pyc  \n",
            "  inflating: dlgo/data/__pycache__/__init__.cpython-310.pyc  \n",
            "   creating: dlgo/encoders/\n",
            "  inflating: dlgo/encoders/alphago.py  \n",
            "  inflating: dlgo/encoders/base.py   \n",
            "  inflating: dlgo/encoders/betago.py  \n",
            "  inflating: dlgo/encoders/oneplane.py  \n",
            "  inflating: dlgo/encoders/sevenplane.py  \n",
            "  inflating: dlgo/encoders/simple.py  \n",
            "  inflating: dlgo/encoders/utils.py  \n",
            " extracting: dlgo/encoders/__init__.py  \n",
            "   creating: dlgo/encoders/__pycache__/\n",
            "  inflating: dlgo/encoders/__pycache__/base.cpython-310.pyc  \n",
            "  inflating: dlgo/encoders/__pycache__/base.cpython-36.pyc  \n",
            "  inflating: dlgo/encoders/__pycache__/oneplane.cpython-310.pyc  \n",
            "  inflating: dlgo/encoders/__pycache__/__init__.cpython-310.pyc  \n",
            "  inflating: dlgo/encoders/__pycache__/__init__.cpython-36.pyc  \n",
            "  inflating: dlgo/goboard.py         \n",
            "  inflating: dlgo/goboard_fast.py    \n",
            "  inflating: dlgo/goboard_slow.py    \n",
            "   creating: dlgo/gosgf/\n",
            "  inflating: dlgo/gosgf/sgf.py       \n",
            "  inflating: dlgo/gosgf/sgf_grammar.py  \n",
            "  inflating: dlgo/gosgf/sgf_properties.py  \n",
            " extracting: dlgo/gosgf/__init__.py  \n",
            "  inflating: dlgo/gotypes.py         \n",
            "   creating: dlgo/gtp/\n",
            "  inflating: dlgo/gtp/board.py       \n",
            "  inflating: dlgo/gtp/command.py     \n",
            "  inflating: dlgo/gtp/frontend.py    \n",
            "  inflating: dlgo/gtp/play_local.py  \n",
            "  inflating: dlgo/gtp/response.py    \n",
            "  inflating: dlgo/gtp/utils.py       \n",
            "   creating: dlgo/gtp/__pycache__/\n",
            "  inflating: dlgo/gtp/__pycache__/board.cpython-310.pyc  \n",
            "  inflating: dlgo/gtp/__pycache__/board.cpython-36.pyc  \n",
            "  inflating: dlgo/gtp/__pycache__/command.cpython-310.pyc  \n",
            "  inflating: dlgo/gtp/__pycache__/frontend.cpython-310.pyc  \n",
            "  inflating: dlgo/gtp/__pycache__/play_local.cpython-310.pyc  \n",
            "  inflating: dlgo/gtp/__pycache__/play_local.cpython-36.pyc  \n",
            "  inflating: dlgo/gtp/__pycache__/response.cpython-310.pyc  \n",
            "  inflating: dlgo/gtp/__pycache__/utils.cpython-310.pyc  \n",
            "  inflating: dlgo/gtp/__pycache__/utils.cpython-36.pyc  \n",
            "   creating: dlgo/httpfrontend/\n",
            "  inflating: dlgo/httpfrontend/server.py  \n",
            "   creating: dlgo/httpfrontend/static/\n",
            "  inflating: dlgo/httpfrontend/static/iframeSizer.contentWindow.min.js  \n",
            "  inflating: dlgo/httpfrontend/static/jgoboard-latest.js  \n",
            "   creating: dlgo/httpfrontend/static/large/\n",
            " extracting: dlgo/httpfrontend/static/large/black.png  \n",
            "  inflating: dlgo/httpfrontend/static/large/board.js  \n",
            " extracting: dlgo/httpfrontend/static/large/shadow.png  \n",
            " extracting: dlgo/httpfrontend/static/large/shadow_dark.png  \n",
            "  inflating: dlgo/httpfrontend/static/large/shinkaya.jpg  \n",
            "  inflating: dlgo/httpfrontend/static/large/walnut.jpg  \n",
            " extracting: dlgo/httpfrontend/static/large/white.png  \n",
            "  inflating: dlgo/httpfrontend/static/play_mcts_55.html  \n",
            "  inflating: dlgo/httpfrontend/static/play_pg_99.html  \n",
            "  inflating: dlgo/httpfrontend/static/play_predict_19.html  \n",
            "  inflating: dlgo/httpfrontend/static/play_q_99.html  \n",
            "  inflating: dlgo/httpfrontend/static/play_random_99.html  \n",
            " extracting: dlgo/httpfrontend/__init__.py  \n",
            "   creating: dlgo/httpfrontend/__pycache__/\n",
            "  inflating: dlgo/httpfrontend/__pycache__/server.cpython-310.pyc  \n",
            "  inflating: dlgo/httpfrontend/__pycache__/__init__.cpython-310.pyc  \n",
            "  inflating: dlgo/kerasutil.py       \n",
            "   creating: dlgo/mcts/\n",
            "  inflating: dlgo/mcts/mcts.py       \n",
            "  inflating: dlgo/mcts/__init__.py   \n",
            "   creating: dlgo/mcts/__pycache__/\n",
            "  inflating: dlgo/mcts/__pycache__/mcts.cpython-310.pyc  \n",
            "  inflating: dlgo/mcts/__pycache__/__init__.cpython-310.pyc  \n",
            "   creating: dlgo/networks/\n",
            "  inflating: dlgo/networks/alphago.py  \n",
            "  inflating: dlgo/networks/large.py  \n",
            "  inflating: dlgo/networks/small.py  \n",
            "   creating: dlgo/rl/\n",
            "  inflating: dlgo/rl/ac.py           \n",
            "  inflating: dlgo/rl/experience.py   \n",
            "  inflating: dlgo/rl/q.py            \n",
            "  inflating: dlgo/rl/simulate.py     \n",
            "  inflating: dlgo/rl/value.py        \n",
            "  inflating: dlgo/rl/__init__.py     \n",
            "  inflating: dlgo/scoring.py         \n",
            "  inflating: dlgo/utils.py           \n",
            "  inflating: dlgo/zobrist.py         \n",
            " extracting: dlgo/__init__.py        \n",
            "   creating: dlgo/__pycache__/\n",
            "  inflating: dlgo/__pycache__/goboard.cpython-310.pyc  \n",
            "  inflating: dlgo/__pycache__/goboard.cpython-36.pyc  \n",
            "  inflating: dlgo/__pycache__/gotypes.cpython-310.pyc  \n",
            "  inflating: dlgo/__pycache__/gotypes.cpython-36.pyc  \n",
            "  inflating: dlgo/__pycache__/kerasutil.cpython-310.pyc  \n",
            "  inflating: dlgo/__pycache__/kerasutil.cpython-36.pyc  \n",
            "  inflating: dlgo/__pycache__/scoring.cpython-310.pyc  \n",
            "  inflating: dlgo/__pycache__/scoring.cpython-36.pyc  \n",
            "  inflating: dlgo/__pycache__/utils.cpython-310.pyc  \n",
            "  inflating: dlgo/__pycache__/utils.cpython-36.pyc  \n",
            "  inflating: dlgo/__pycache__/zobrist.cpython-310.pyc  \n",
            "  inflating: dlgo/__pycache__/zobrist.cpython-36.pyc  \n",
            "  inflating: dlgo/__pycache__/__init__.cpython-310.pyc  \n",
            "  inflating: dlgo/__pycache__/__init__.cpython-36.pyc  \n"
          ]
        }
      ],
      "source": [
        "#распаковка модулей DL-Go\n",
        "!unzip -o dlgo.zip"
      ]
    },
    {
      "cell_type": "code",
      "source": [
        "!cp ./drive/MyDrive/colab1/alphago_rl_experience.h5 ./alphago_rl_experience.h5"
      ],
      "metadata": {
        "id": "OqLcTWHzpsUg"
      },
      "execution_count": 4,
      "outputs": []
    },
    {
      "cell_type": "markdown",
      "source": [
        "##Инициализация сети ценности AlphaGo"
      ],
      "metadata": {
        "id": "q_wNZ2VmpaVZ"
      }
    },
    {
      "cell_type": "code",
      "source": [
        "from dlgo.networks.alphago import alphago_model\n",
        "from dlgo.encoders.alphago import AlphaGoEncoder\n",
        "from dlgo.rl import ValueAgent, load_experience\n",
        "import h5py"
      ],
      "metadata": {
        "id": "dpgBbHoxpdAp"
      },
      "execution_count": 5,
      "outputs": []
    },
    {
      "cell_type": "code",
      "source": [
        "rows, cols = 19, 19\n",
        "encoder = AlphaGoEncoder()\n",
        "input_shape = (encoder.num_planes, rows, cols)\n",
        "alphago_value_network = alphago_model(input_shape)"
      ],
      "metadata": {
        "id": "gpRz71HFpe1k"
      },
      "execution_count": 6,
      "outputs": []
    },
    {
      "cell_type": "code",
      "source": [
        "alphago_value = ValueAgent(alphago_value_network, encoder)"
      ],
      "metadata": {
        "id": "iSGaznTbpgY0"
      },
      "execution_count": 7,
      "outputs": []
    },
    {
      "cell_type": "markdown",
      "source": [
        "##Обучение сети ценности на данных опыта"
      ],
      "metadata": {
        "id": "Sx3Ws0oRphKo"
      }
    },
    {
      "cell_type": "code",
      "execution_count": 8,
      "metadata": {
        "id": "fVmCgucspUs_"
      },
      "outputs": [],
      "source": [
        "experience = load_experience(h5py.File('alphago_rl_experience.h5', 'r'))"
      ]
    },
    {
      "cell_type": "code",
      "source": [
        "alphago_value.train(experience)"
      ],
      "metadata": {
        "colab": {
          "base_uri": "https://localhost:8080/"
        },
        "id": "mrzOLAp0pmtz",
        "outputId": "dac9356b-bd14-46cf-b70b-5d1477e6c115"
      },
      "execution_count": 9,
      "outputs": [
        {
          "output_type": "stream",
          "name": "stderr",
          "text": [
            "/usr/local/lib/python3.10/dist-packages/keras/optimizers/legacy/gradient_descent.py:114: UserWarning: The `lr` argument is deprecated, use `learning_rate` instead.\n",
            "  super().__init__(name, **kwargs)\n"
          ]
        },
        {
          "output_type": "stream",
          "name": "stdout",
          "text": [
            "110/110 [==============================] - 24s 134ms/step - loss: 0.2570\n"
          ]
        }
      ]
    },
    {
      "cell_type": "code",
      "source": [
        "with h5py.File('alphago_value.h5', 'w') as value_agent_out:\n",
        "    alphago_value.serialize(value_agent_out)"
      ],
      "metadata": {
        "id": "qNiyQTBgpoI-"
      },
      "execution_count": 10,
      "outputs": []
    },
    {
      "cell_type": "code",
      "source": [
        "!cp ./alphago_rl_experience.h5 ./drive/MyDrive/colab1/alphago_value.h5"
      ],
      "metadata": {
        "id": "T0RAqysTptwC"
      },
      "execution_count": 11,
      "outputs": []
    }
  ]
}