{
  "nbformat": 4,
  "nbformat_minor": 0,
  "metadata": {
    "colab": {
      "provenance": [],
      "gpuType": "T4"
    },
    "kernelspec": {
      "name": "python3",
      "display_name": "Python 3"
    },
    "language_info": {
      "name": "python"
    },
    "accelerator": "GPU",
    "gpuClass": "standard"
  },
  "cells": [
    {
      "cell_type": "markdown",
      "source": [
        "#Использование AlphaGo."
      ],
      "metadata": {
        "id": "3QiTt2HX0yML"
      }
    },
    {
      "cell_type": "code",
      "source": [
        "#from google.colab import drive\n",
        "#drive.mount('/content/drive')"
      ],
      "metadata": {
        "id": "Nn56uokdl_6Z"
      },
      "execution_count": 1,
      "outputs": []
    },
    {
      "cell_type": "code",
      "source": [
        "#забираем из Google Drive если есть)))\n",
        "!cp ./drive/MyDrive/colab1/dlgo.zip ./dlgo.zip"
      ],
      "metadata": {
        "id": "Dc1uoWilmCm4"
      },
      "execution_count": 2,
      "outputs": []
    },
    {
      "cell_type": "code",
      "execution_count": 3,
      "metadata": {
        "colab": {
          "base_uri": "https://localhost:8080/"
        },
        "id": "4iQsSJOMl2gz",
        "outputId": "b8e7d84c-3440-44f2-90cc-14ec71a6a85e"
      },
      "outputs": [
        {
          "output_type": "stream",
          "name": "stdout",
          "text": [
            "Archive:  dlgo.zip\n",
            "   creating: dlgo/\n",
            "   creating: dlgo/agent/\n",
            "  inflating: dlgo/agent/alphago.py   \n",
            "  inflating: dlgo/agent/base.py      \n",
            "  inflating: dlgo/agent/helpers.py   \n",
            "  inflating: dlgo/agent/naive.py     \n",
            "  inflating: dlgo/agent/pg.py        \n",
            "  inflating: dlgo/agent/predict.py   \n",
            "  inflating: dlgo/agent/termination.py  \n",
            " extracting: dlgo/agent/__init__.py  \n",
            "   creating: dlgo/agent/__pycache__/\n",
            "  inflating: dlgo/agent/__pycache__/base.cpython-310.pyc  \n",
            "  inflating: dlgo/agent/__pycache__/base.cpython-36.pyc  \n",
            "  inflating: dlgo/agent/__pycache__/helpers.cpython-310.pyc  \n",
            "  inflating: dlgo/agent/__pycache__/helpers.cpython-36.pyc  \n",
            "  inflating: dlgo/agent/__pycache__/naive.cpython-310.pyc  \n",
            "  inflating: dlgo/agent/__pycache__/naive.cpython-36.pyc  \n",
            "  inflating: dlgo/agent/__pycache__/predict.cpython-310.pyc  \n",
            "  inflating: dlgo/agent/__pycache__/predict.cpython-36.pyc  \n",
            "  inflating: dlgo/agent/__pycache__/termination.cpython-310.pyc  \n",
            "  inflating: dlgo/agent/__pycache__/termination.cpython-36.pyc  \n",
            "  inflating: dlgo/agent/__pycache__/__init__.cpython-310.pyc  \n",
            "  inflating: dlgo/agent/__pycache__/__init__.cpython-36.pyc  \n",
            "   creating: dlgo/data/\n",
            "  inflating: dlgo/data/generator.py  \n",
            "  inflating: dlgo/data/index_processor.py  \n",
            "  inflating: dlgo/data/parallel_processor.py  \n",
            "  inflating: dlgo/data/processor.py  \n",
            "  inflating: dlgo/data/sampling.py   \n",
            "  inflating: dlgo/data/__init__.py   \n",
            "   creating: dlgo/data/__pycache__/\n",
            "  inflating: dlgo/data/__pycache__/index_processor.cpython-310.pyc  \n",
            "  inflating: dlgo/data/__pycache__/parallel_processor.cpython-310.pyc  \n",
            "  inflating: dlgo/data/__pycache__/__init__.cpython-310.pyc  \n",
            "   creating: dlgo/encoders/\n",
            "  inflating: dlgo/encoders/alphago.py  \n",
            "  inflating: dlgo/encoders/base.py   \n",
            "  inflating: dlgo/encoders/betago.py  \n",
            "  inflating: dlgo/encoders/oneplane.py  \n",
            "  inflating: dlgo/encoders/sevenplane.py  \n",
            "  inflating: dlgo/encoders/simple.py  \n",
            "  inflating: dlgo/encoders/utils.py  \n",
            " extracting: dlgo/encoders/__init__.py  \n",
            "   creating: dlgo/encoders/__pycache__/\n",
            "  inflating: dlgo/encoders/__pycache__/base.cpython-310.pyc  \n",
            "  inflating: dlgo/encoders/__pycache__/base.cpython-36.pyc  \n",
            "  inflating: dlgo/encoders/__pycache__/oneplane.cpython-310.pyc  \n",
            "  inflating: dlgo/encoders/__pycache__/__init__.cpython-310.pyc  \n",
            "  inflating: dlgo/encoders/__pycache__/__init__.cpython-36.pyc  \n",
            "  inflating: dlgo/goboard.py         \n",
            "  inflating: dlgo/goboard_fast.py    \n",
            "  inflating: dlgo/goboard_slow.py    \n",
            "   creating: dlgo/gosgf/\n",
            "  inflating: dlgo/gosgf/sgf.py       \n",
            "  inflating: dlgo/gosgf/sgf_grammar.py  \n",
            "  inflating: dlgo/gosgf/sgf_properties.py  \n",
            " extracting: dlgo/gosgf/__init__.py  \n",
            "  inflating: dlgo/gotypes.py         \n",
            "   creating: dlgo/gtp/\n",
            "  inflating: dlgo/gtp/board.py       \n",
            "  inflating: dlgo/gtp/command.py     \n",
            "  inflating: dlgo/gtp/frontend.py    \n",
            "  inflating: dlgo/gtp/play_local.py  \n",
            "  inflating: dlgo/gtp/response.py    \n",
            "  inflating: dlgo/gtp/utils.py       \n",
            "   creating: dlgo/gtp/__pycache__/\n",
            "  inflating: dlgo/gtp/__pycache__/board.cpython-310.pyc  \n",
            "  inflating: dlgo/gtp/__pycache__/board.cpython-36.pyc  \n",
            "  inflating: dlgo/gtp/__pycache__/command.cpython-310.pyc  \n",
            "  inflating: dlgo/gtp/__pycache__/frontend.cpython-310.pyc  \n",
            "  inflating: dlgo/gtp/__pycache__/play_local.cpython-310.pyc  \n",
            "  inflating: dlgo/gtp/__pycache__/play_local.cpython-36.pyc  \n",
            "  inflating: dlgo/gtp/__pycache__/response.cpython-310.pyc  \n",
            "  inflating: dlgo/gtp/__pycache__/utils.cpython-310.pyc  \n",
            "  inflating: dlgo/gtp/__pycache__/utils.cpython-36.pyc  \n",
            "   creating: dlgo/httpfrontend/\n",
            "  inflating: dlgo/httpfrontend/server.py  \n",
            "   creating: dlgo/httpfrontend/static/\n",
            "  inflating: dlgo/httpfrontend/static/iframeSizer.contentWindow.min.js  \n",
            "  inflating: dlgo/httpfrontend/static/jgoboard-latest.js  \n",
            "   creating: dlgo/httpfrontend/static/large/\n",
            " extracting: dlgo/httpfrontend/static/large/black.png  \n",
            "  inflating: dlgo/httpfrontend/static/large/board.js  \n",
            " extracting: dlgo/httpfrontend/static/large/shadow.png  \n",
            " extracting: dlgo/httpfrontend/static/large/shadow_dark.png  \n",
            "  inflating: dlgo/httpfrontend/static/large/shinkaya.jpg  \n",
            "  inflating: dlgo/httpfrontend/static/large/walnut.jpg  \n",
            " extracting: dlgo/httpfrontend/static/large/white.png  \n",
            "  inflating: dlgo/httpfrontend/static/play_mcts_55.html  \n",
            "  inflating: dlgo/httpfrontend/static/play_pg_99.html  \n",
            "  inflating: dlgo/httpfrontend/static/play_predict_19.html  \n",
            "  inflating: dlgo/httpfrontend/static/play_q_99.html  \n",
            "  inflating: dlgo/httpfrontend/static/play_random_99.html  \n",
            " extracting: dlgo/httpfrontend/__init__.py  \n",
            "   creating: dlgo/httpfrontend/__pycache__/\n",
            "  inflating: dlgo/httpfrontend/__pycache__/server.cpython-310.pyc  \n",
            "  inflating: dlgo/httpfrontend/__pycache__/__init__.cpython-310.pyc  \n",
            "  inflating: dlgo/kerasutil.py       \n",
            "   creating: dlgo/mcts/\n",
            "  inflating: dlgo/mcts/mcts.py       \n",
            "  inflating: dlgo/mcts/__init__.py   \n",
            "   creating: dlgo/mcts/__pycache__/\n",
            "  inflating: dlgo/mcts/__pycache__/mcts.cpython-310.pyc  \n",
            "  inflating: dlgo/mcts/__pycache__/__init__.cpython-310.pyc  \n",
            "   creating: dlgo/networks/\n",
            "  inflating: dlgo/networks/alphago.py  \n",
            "  inflating: dlgo/networks/large.py  \n",
            "  inflating: dlgo/networks/small.py  \n",
            "   creating: dlgo/rl/\n",
            "  inflating: dlgo/rl/ac.py           \n",
            "  inflating: dlgo/rl/experience.py   \n",
            "  inflating: dlgo/rl/q.py            \n",
            "  inflating: dlgo/rl/simulate.py     \n",
            "  inflating: dlgo/rl/value.py        \n",
            "  inflating: dlgo/rl/__init__.py     \n",
            "  inflating: dlgo/scoring.py         \n",
            "  inflating: dlgo/utils.py           \n",
            "  inflating: dlgo/zobrist.py         \n",
            " extracting: dlgo/__init__.py        \n",
            "   creating: dlgo/__pycache__/\n",
            "  inflating: dlgo/__pycache__/goboard.cpython-310.pyc  \n",
            "  inflating: dlgo/__pycache__/goboard.cpython-36.pyc  \n",
            "  inflating: dlgo/__pycache__/gotypes.cpython-310.pyc  \n",
            "  inflating: dlgo/__pycache__/gotypes.cpython-36.pyc  \n",
            "  inflating: dlgo/__pycache__/kerasutil.cpython-310.pyc  \n",
            "  inflating: dlgo/__pycache__/kerasutil.cpython-36.pyc  \n",
            "  inflating: dlgo/__pycache__/scoring.cpython-310.pyc  \n",
            "  inflating: dlgo/__pycache__/scoring.cpython-36.pyc  \n",
            "  inflating: dlgo/__pycache__/utils.cpython-310.pyc  \n",
            "  inflating: dlgo/__pycache__/utils.cpython-36.pyc  \n",
            "  inflating: dlgo/__pycache__/zobrist.cpython-310.pyc  \n",
            "  inflating: dlgo/__pycache__/zobrist.cpython-36.pyc  \n",
            "  inflating: dlgo/__pycache__/__init__.cpython-310.pyc  \n",
            "  inflating: dlgo/__pycache__/__init__.cpython-36.pyc  \n"
          ]
        }
      ],
      "source": [
        "#распаковка модулей DL-Go\n",
        "!unzip -o dlgo.zip"
      ]
    },
    {
      "cell_type": "code",
      "source": [
        "!cp ./drive/MyDrive/colab1/alphago_sl_policy.h5 ./alphago_sl_policy.h5\n",
        "!cp ./drive/MyDrive/colab1/alphago_rl_policy.h5 ./alphago_rl_policy.h5\n",
        "!cp ./drive/MyDrive/colab1/alphago_value.h5 ./alphago_value.h5"
      ],
      "metadata": {
        "id": "rlBCVdC-1bfC"
      },
      "execution_count": 4,
      "outputs": []
    },
    {
      "cell_type": "code",
      "execution_count": 5,
      "metadata": {
        "id": "yf-BlQuZ0rqR"
      },
      "outputs": [],
      "source": [
        "from dlgo.agent.alphago import AlphaGoMCTS\n",
        "from dlgo.agent.predict import load_prediction_agent\n",
        "from dlgo.agent.pg import load_policy_agent, load_policy_agent\n",
        "from dlgo.rl.value import load_value_agent\n",
        "import h5py"
      ]
    },
    {
      "cell_type": "code",
      "source": [
        "fast_policy = load_prediction_agent(h5py.File('alphago_sl_policy.h5', 'r'))\n",
        "strong_policy = load_policy_agent(h5py.File('alphago_rl_policy.h5', 'r'))"
      ],
      "metadata": {
        "id": "9YY9HSEH1HkH"
      },
      "execution_count": 6,
      "outputs": []
    },
    {
      "cell_type": "code",
      "source": [
        "def scan_hdf5(path, recursive=True, tab_step=2):\n",
        "    def scan_node(g, tabs=0):\n",
        "        print(' ' * tabs, g.name)\n",
        "        for k, v in g.items():\n",
        "            if isinstance(v, h5py.Dataset):\n",
        "                print(' ' * tabs + ' ' * tab_step + ' -', v.name)\n",
        "            elif isinstance(v, h5py.Group) and recursive:\n",
        "                scan_node(v, tabs=tabs + tab_step)\n",
        "    with h5py.File(path, 'r') as f:\n",
        "        scan_node(f)"
      ],
      "metadata": {
        "id": "hkyCE_RdZAPH"
      },
      "execution_count": 7,
      "outputs": []
    },
    {
      "cell_type": "code",
      "source": [
        "scan_hdf5('alphago_value.h5')\n",
        "#scan_hdf5('alphago_sl_policy.h5')\n",
        "#scan_hdf5('alphago_rl_policy.h5')"
      ],
      "metadata": {
        "colab": {
          "base_uri": "https://localhost:8080/"
        },
        "id": "EWo9QAKSZFx_",
        "outputId": "5000dcb5-5de0-4973-8ec3-072c259c7f16"
      },
      "execution_count": 8,
      "outputs": [
        {
          "output_type": "stream",
          "name": "stdout",
          "text": [
            " /\n",
            "   /encoder\n",
            "   /model\n",
            "     /model/kerasmodel\n",
            "       /model/kerasmodel/model_weights\n",
            "         /model/kerasmodel/model_weights/conv2d\n",
            "           /model/kerasmodel/model_weights/conv2d/conv2d\n",
            "             - /model/kerasmodel/model_weights/conv2d/conv2d/bias:0\n",
            "             - /model/kerasmodel/model_weights/conv2d/conv2d/kernel:0\n",
            "         /model/kerasmodel/model_weights/conv2d_1\n",
            "           /model/kerasmodel/model_weights/conv2d_1/conv2d_1\n",
            "             - /model/kerasmodel/model_weights/conv2d_1/conv2d_1/bias:0\n",
            "             - /model/kerasmodel/model_weights/conv2d_1/conv2d_1/kernel:0\n",
            "         /model/kerasmodel/model_weights/conv2d_10\n",
            "           /model/kerasmodel/model_weights/conv2d_10/conv2d_10\n",
            "             - /model/kerasmodel/model_weights/conv2d_10/conv2d_10/bias:0\n",
            "             - /model/kerasmodel/model_weights/conv2d_10/conv2d_10/kernel:0\n",
            "         /model/kerasmodel/model_weights/conv2d_11\n",
            "           /model/kerasmodel/model_weights/conv2d_11/conv2d_11\n",
            "             - /model/kerasmodel/model_weights/conv2d_11/conv2d_11/bias:0\n",
            "             - /model/kerasmodel/model_weights/conv2d_11/conv2d_11/kernel:0\n",
            "         /model/kerasmodel/model_weights/conv2d_12\n",
            "           /model/kerasmodel/model_weights/conv2d_12/conv2d_12\n",
            "             - /model/kerasmodel/model_weights/conv2d_12/conv2d_12/bias:0\n",
            "             - /model/kerasmodel/model_weights/conv2d_12/conv2d_12/kernel:0\n",
            "         /model/kerasmodel/model_weights/conv2d_2\n",
            "           /model/kerasmodel/model_weights/conv2d_2/conv2d_2\n",
            "             - /model/kerasmodel/model_weights/conv2d_2/conv2d_2/bias:0\n",
            "             - /model/kerasmodel/model_weights/conv2d_2/conv2d_2/kernel:0\n",
            "         /model/kerasmodel/model_weights/conv2d_3\n",
            "           /model/kerasmodel/model_weights/conv2d_3/conv2d_3\n",
            "             - /model/kerasmodel/model_weights/conv2d_3/conv2d_3/bias:0\n",
            "             - /model/kerasmodel/model_weights/conv2d_3/conv2d_3/kernel:0\n",
            "         /model/kerasmodel/model_weights/conv2d_4\n",
            "           /model/kerasmodel/model_weights/conv2d_4/conv2d_4\n",
            "             - /model/kerasmodel/model_weights/conv2d_4/conv2d_4/bias:0\n",
            "             - /model/kerasmodel/model_weights/conv2d_4/conv2d_4/kernel:0\n",
            "         /model/kerasmodel/model_weights/conv2d_5\n",
            "           /model/kerasmodel/model_weights/conv2d_5/conv2d_5\n",
            "             - /model/kerasmodel/model_weights/conv2d_5/conv2d_5/bias:0\n",
            "             - /model/kerasmodel/model_weights/conv2d_5/conv2d_5/kernel:0\n",
            "         /model/kerasmodel/model_weights/conv2d_6\n",
            "           /model/kerasmodel/model_weights/conv2d_6/conv2d_6\n",
            "             - /model/kerasmodel/model_weights/conv2d_6/conv2d_6/bias:0\n",
            "             - /model/kerasmodel/model_weights/conv2d_6/conv2d_6/kernel:0\n",
            "         /model/kerasmodel/model_weights/conv2d_7\n",
            "           /model/kerasmodel/model_weights/conv2d_7/conv2d_7\n",
            "             - /model/kerasmodel/model_weights/conv2d_7/conv2d_7/bias:0\n",
            "             - /model/kerasmodel/model_weights/conv2d_7/conv2d_7/kernel:0\n",
            "         /model/kerasmodel/model_weights/conv2d_8\n",
            "           /model/kerasmodel/model_weights/conv2d_8/conv2d_8\n",
            "             - /model/kerasmodel/model_weights/conv2d_8/conv2d_8/bias:0\n",
            "             - /model/kerasmodel/model_weights/conv2d_8/conv2d_8/kernel:0\n",
            "         /model/kerasmodel/model_weights/conv2d_9\n",
            "           /model/kerasmodel/model_weights/conv2d_9/conv2d_9\n",
            "             - /model/kerasmodel/model_weights/conv2d_9/conv2d_9/bias:0\n",
            "             - /model/kerasmodel/model_weights/conv2d_9/conv2d_9/kernel:0\n",
            "         /model/kerasmodel/model_weights/dense\n",
            "           /model/kerasmodel/model_weights/dense/dense\n",
            "             - /model/kerasmodel/model_weights/dense/dense/bias:0\n",
            "             - /model/kerasmodel/model_weights/dense/dense/kernel:0\n",
            "         /model/kerasmodel/model_weights/dense_1\n",
            "           /model/kerasmodel/model_weights/dense_1/dense_1\n",
            "             - /model/kerasmodel/model_weights/dense_1/dense_1/bias:0\n",
            "             - /model/kerasmodel/model_weights/dense_1/dense_1/kernel:0\n",
            "         /model/kerasmodel/model_weights/flatten\n",
            "         /model/kerasmodel/model_weights/top_level_model_weights\n",
            "       /model/kerasmodel/optimizer_weights\n",
            "         /model/kerasmodel/optimizer_weights/SGD\n",
            "           - /model/kerasmodel/optimizer_weights/SGD/iter:0\n"
          ]
        }
      ]
    },
    {
      "cell_type": "code",
      "source": [
        "aval = h5py.File('alphago_value.h5', 'r')"
      ],
      "metadata": {
        "id": "w7VIRrGVOzeb"
      },
      "execution_count": 9,
      "outputs": []
    },
    {
      "cell_type": "code",
      "source": [
        "value = load_value_agent(aval)"
      ],
      "metadata": {
        "id": "RyUFV5AeO5h9"
      },
      "execution_count": 10,
      "outputs": []
    },
    {
      "cell_type": "code",
      "source": [
        "alphago = AlphaGoMCTS(strong_policy, fast_policy, value)"
      ],
      "metadata": {
        "id": "c3tmE8tF1JOq"
      },
      "execution_count": 11,
      "outputs": []
    },
    {
      "cell_type": "code",
      "source": [
        "alphago"
      ],
      "metadata": {
        "colab": {
          "base_uri": "https://localhost:8080/"
        },
        "id": "Z0pILYvTb1Y9",
        "outputId": "e4de4085-3785-4192-f161-7762fd27932a"
      },
      "execution_count": 12,
      "outputs": [
        {
          "output_type": "execute_result",
          "data": {
            "text/plain": [
              "<dlgo.agent.alphago.AlphaGoMCTS at 0x7ff1f00ef5b0>"
            ]
          },
          "metadata": {},
          "execution_count": 12
        }
      ]
    }
  ]
}