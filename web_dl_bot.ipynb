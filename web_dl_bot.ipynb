{
  "cells": [
    {
      "cell_type": "code",
      "execution_count": 1,
      "metadata": {
        "colab": {
          "base_uri": "https://localhost:8080/"
        },
        "id": "i3_bPcG35qcD",
        "outputId": "e36ba9a8-c7b6-4974-aace-f03d70c8e462"
      },
      "outputs": [
        {
          "output_type": "stream",
          "name": "stdout",
          "text": [
            "Archive:  dlgo.zip\n",
            "   creating: dlgo/\n",
            "   creating: dlgo/agent/\n",
            "  inflating: dlgo/agent/base.py      \n",
            "  inflating: dlgo/agent/helpers.py   \n",
            "  inflating: dlgo/agent/naive.py     \n",
            "  inflating: dlgo/agent/predict.py   \n",
            "  inflating: dlgo/agent/termination.py  \n",
            " extracting: dlgo/agent/__init__.py  \n",
            "   creating: dlgo/agent/__pycache__/\n",
            "  inflating: dlgo/agent/__pycache__/base.cpython-310.pyc  \n",
            "  inflating: dlgo/agent/__pycache__/helpers.cpython-310.pyc  \n",
            "  inflating: dlgo/agent/__pycache__/naive.cpython-310.pyc  \n",
            "  inflating: dlgo/agent/__pycache__/predict.cpython-310.pyc  \n",
            "  inflating: dlgo/agent/__pycache__/termination.cpython-310.pyc  \n",
            "  inflating: dlgo/agent/__pycache__/__init__.cpython-310.pyc  \n",
            "   creating: dlgo/data/\n",
            "  inflating: dlgo/data/generator.py  \n",
            "  inflating: dlgo/data/index_processor.py  \n",
            "  inflating: dlgo/data/parallel_processor.py  \n",
            "  inflating: dlgo/data/processor.py  \n",
            "  inflating: dlgo/data/sampling.py   \n",
            "  inflating: dlgo/data/__init__.py   \n",
            "   creating: dlgo/data/__pycache__/\n",
            "  inflating: dlgo/data/__pycache__/index_processor.cpython-310.pyc  \n",
            "  inflating: dlgo/data/__pycache__/parallel_processor.cpython-310.pyc  \n",
            "  inflating: dlgo/data/__pycache__/__init__.cpython-310.pyc  \n",
            "   creating: dlgo/encoders/\n",
            "  inflating: dlgo/encoders/base.py   \n",
            "  inflating: dlgo/encoders/betago.py  \n",
            "  inflating: dlgo/encoders/oneplane.py  \n",
            "  inflating: dlgo/encoders/sevenplane.py  \n",
            "  inflating: dlgo/encoders/simple.py  \n",
            " extracting: dlgo/encoders/__init__.py  \n",
            "   creating: dlgo/encoders/__pycache__/\n",
            "  inflating: dlgo/encoders/__pycache__/base.cpython-310.pyc  \n",
            "  inflating: dlgo/encoders/__pycache__/oneplane.cpython-310.pyc  \n",
            "  inflating: dlgo/encoders/__pycache__/__init__.cpython-310.pyc  \n",
            "  inflating: dlgo/goboard.py         \n",
            "  inflating: dlgo/goboard_slow.py    \n",
            "   creating: dlgo/gosgf/\n",
            "  inflating: dlgo/gosgf/sgf.py       \n",
            "  inflating: dlgo/gosgf/sgf_grammar.py  \n",
            "  inflating: dlgo/gosgf/sgf_properties.py  \n",
            " extracting: dlgo/gosgf/__init__.py  \n",
            "  inflating: dlgo/gotypes.py         \n",
            "   creating: dlgo/gtp/\n",
            "  inflating: dlgo/gtp/board.py       \n",
            "  inflating: dlgo/gtp/command.py     \n",
            "  inflating: dlgo/gtp/play_local.py  \n",
            "  inflating: dlgo/gtp/utils.py       \n",
            "   creating: dlgo/gtp/__pycache__/\n",
            "  inflating: dlgo/gtp/__pycache__/board.cpython-310.pyc  \n",
            "  inflating: dlgo/gtp/__pycache__/play_local.cpython-310.pyc  \n",
            "  inflating: dlgo/gtp/__pycache__/utils.cpython-310.pyc  \n",
            "   creating: dlgo/httpfrontend/\n",
            "  inflating: dlgo/httpfrontend/server.py  \n",
            "   creating: dlgo/httpfrontend/static/\n",
            "  inflating: dlgo/httpfrontend/static/iframeSizer.contentWindow.min.js  \n",
            "  inflating: dlgo/httpfrontend/static/jgoboard-latest.js  \n",
            "   creating: dlgo/httpfrontend/static/large/\n",
            " extracting: dlgo/httpfrontend/static/large/black.png  \n",
            "  inflating: dlgo/httpfrontend/static/large/board.js  \n",
            " extracting: dlgo/httpfrontend/static/large/shadow.png  \n",
            " extracting: dlgo/httpfrontend/static/large/shadow_dark.png  \n",
            "  inflating: dlgo/httpfrontend/static/large/shinkaya.jpg  \n",
            "  inflating: dlgo/httpfrontend/static/large/walnut.jpg  \n",
            " extracting: dlgo/httpfrontend/static/large/white.png  \n",
            "  inflating: dlgo/httpfrontend/static/play_mcts_55.html  \n",
            "  inflating: dlgo/httpfrontend/static/play_pg_99.html  \n",
            "  inflating: dlgo/httpfrontend/static/play_predict_19.html  \n",
            "  inflating: dlgo/httpfrontend/static/play_q_99.html  \n",
            "  inflating: dlgo/httpfrontend/static/play_random_99.html  \n",
            " extracting: dlgo/httpfrontend/__init__.py  \n",
            "   creating: dlgo/httpfrontend/__pycache__/\n",
            "  inflating: dlgo/httpfrontend/__pycache__/server.cpython-310.pyc  \n",
            "  inflating: dlgo/httpfrontend/__pycache__/__init__.cpython-310.pyc  \n",
            "  inflating: dlgo/kerasutil.py       \n",
            "   creating: dlgo/mcts/\n",
            "  inflating: dlgo/mcts/mcts.py       \n",
            "  inflating: dlgo/mcts/__init__.py   \n",
            "   creating: dlgo/mcts/__pycache__/\n",
            "  inflating: dlgo/mcts/__pycache__/mcts.cpython-310.pyc  \n",
            "  inflating: dlgo/mcts/__pycache__/__init__.cpython-310.pyc  \n",
            "   creating: dlgo/networks/\n",
            "  inflating: dlgo/networks/large.py  \n",
            "  inflating: dlgo/networks/small.py  \n",
            "  inflating: dlgo/scoring.py         \n",
            "  inflating: dlgo/utils.py           \n",
            "  inflating: dlgo/zobrist.py         \n",
            " extracting: dlgo/__init__.py        \n",
            "   creating: dlgo/__pycache__/\n",
            "  inflating: dlgo/__pycache__/goboard.cpython-310.pyc  \n",
            "  inflating: dlgo/__pycache__/gotypes.cpython-310.pyc  \n",
            "  inflating: dlgo/__pycache__/kerasutil.cpython-310.pyc  \n",
            "  inflating: dlgo/__pycache__/scoring.cpython-310.pyc  \n",
            "  inflating: dlgo/__pycache__/utils.cpython-310.pyc  \n",
            "  inflating: dlgo/__pycache__/zobrist.cpython-310.pyc  \n",
            "  inflating: dlgo/__pycache__/__init__.cpython-310.pyc  \n"
          ]
        }
      ],
      "source": [
        "#распаковка модулей DL-Go\n",
        "!unzip -o dlgo.zip"
      ]
    },
    {
      "cell_type": "markdown",
      "metadata": {
        "id": "fh6JPTU-lIKB"
      },
      "source": [
        "Загрузка признаков и меток с помощью обработчика данных"
      ]
    },
    {
      "cell_type": "code",
      "execution_count": 2,
      "metadata": {
        "id": "yZr3J7jwh2-O"
      },
      "outputs": [],
      "source": [
        "import h5py\n",
        "\n",
        "from keras.models import Sequential\n",
        "from keras.layers import Dense\n",
        "\n",
        "from dlgo.agent.predict import DeepLearningAgent, load_prediction_agent\n",
        "#from dlgo.data.parallel_processor import GoDataProcessor #Wall time: 2h 37min 57s\n",
        "from dlgo.data.processor import GoDataProcessor\n",
        "from dlgo.encoders.sevenplane import SevenPlaneEncoder\n",
        "from dlgo.networks import large\n",
        "\n",
        "from dlgo.httpfrontend import get_web_app"
      ]
    },
    {
      "cell_type": "code",
      "execution_count": 4,
      "metadata": {
        "id": "rnc3ZGqPivtP"
      },
      "outputs": [],
      "source": [
        "go_board_rows, go_board_cols = 19, 19\n",
        "nb_classes = go_board_rows * go_board_cols\n",
        "encoder = SevenPlaneEncoder((go_board_rows, go_board_cols))\n",
        "processor = GoDataProcessor(encoder=encoder.name())"
      ]
    },
    {
      "cell_type": "code",
      "execution_count": 5,
      "metadata": {
        "colab": {
          "base_uri": "https://localhost:8080/"
        },
        "id": "NcF0gf1DSLFh",
        "outputId": "5ada491c-d643-450c-e81c-2540347bcf59"
      },
      "outputs": [
        {
          "output_type": "stream",
          "name": "stdout",
          "text": [
            "CPU times: user 20.9 ms, sys: 81.7 ms, total: 103 ms\n",
            "Wall time: 2.42 s\n"
          ]
        }
      ],
      "source": [
        "%%time\n",
        "\n",
        "# данные берем из NPY собранного или формируем из SGF\n",
        "npy_data = True\n",
        "\n",
        "if not npy_data:\n",
        "  X, y = processor.load_go_data(num_samples=100)\n",
        "  !cp ./data/*.npy ./drive/MyDrive/colab1/\n",
        "else:\n",
        "  !mkdir ./data/\n",
        "  !cp ./drive/MyDrive/colab1/features_train.npy ./data/\n",
        "  !cp ./drive/MyDrive/colab1/labels_train.npy ./data/\n",
        "  X, y = processor.load_go_data_npy()"
      ]
    },
    {
      "cell_type": "markdown",
      "metadata": {
        "id": "CrcEzQSBlREC"
      },
      "source": [
        "Создание и запуск модели для предсказания ходов с использованием оптимизатора Adadelta"
      ]
    },
    {
      "cell_type": "code",
      "execution_count": 4,
      "metadata": {
        "id": "gl1o0mT1jUR4",
        "colab": {
          "base_uri": "https://localhost:8080/"
        },
        "outputId": "fd0a5e8d-31b9-44b4-adf9-6fbf0db4bf1c"
      },
      "outputs": [
        {
          "output_type": "stream",
          "name": "stdout",
          "text": [
            "Epoch 1/20\n",
            "88/88 [==============================] - 15s 29ms/step - loss: 5.8887 - accuracy: 0.0034\n",
            "Epoch 2/20\n",
            "88/88 [==============================] - 3s 29ms/step - loss: 5.8887 - accuracy: 0.0035\n",
            "Epoch 3/20\n",
            "88/88 [==============================] - 3s 29ms/step - loss: 5.8887 - accuracy: 0.0034\n",
            "Epoch 4/20\n",
            "88/88 [==============================] - 3s 30ms/step - loss: 5.8886 - accuracy: 0.0034\n",
            "Epoch 5/20\n",
            "88/88 [==============================] - 3s 30ms/step - loss: 5.8886 - accuracy: 0.0035\n",
            "Epoch 6/20\n",
            "88/88 [==============================] - 3s 29ms/step - loss: 5.8886 - accuracy: 0.0036\n",
            "Epoch 7/20\n",
            "88/88 [==============================] - 3s 29ms/step - loss: 5.8885 - accuracy: 0.0037\n",
            "Epoch 8/20\n",
            "88/88 [==============================] - 3s 29ms/step - loss: 5.8885 - accuracy: 0.0038\n",
            "Epoch 9/20\n",
            "88/88 [==============================] - 3s 30ms/step - loss: 5.8885 - accuracy: 0.0042\n",
            "Epoch 10/20\n",
            "88/88 [==============================] - 3s 30ms/step - loss: 5.8884 - accuracy: 0.0043\n",
            "Epoch 11/20\n",
            "88/88 [==============================] - 3s 30ms/step - loss: 5.8884 - accuracy: 0.0044\n",
            "Epoch 12/20\n",
            "88/88 [==============================] - 3s 29ms/step - loss: 5.8884 - accuracy: 0.0043\n",
            "Epoch 13/20\n",
            "88/88 [==============================] - 3s 29ms/step - loss: 5.8883 - accuracy: 0.0042\n",
            "Epoch 14/20\n",
            "88/88 [==============================] - 3s 30ms/step - loss: 5.8883 - accuracy: 0.0042\n",
            "Epoch 15/20\n",
            "88/88 [==============================] - 3s 31ms/step - loss: 5.8883 - accuracy: 0.0045\n",
            "Epoch 16/20\n",
            "88/88 [==============================] - 3s 29ms/step - loss: 5.8882 - accuracy: 0.0049\n",
            "Epoch 17/20\n",
            "88/88 [==============================] - 3s 30ms/step - loss: 5.8882 - accuracy: 0.0047\n",
            "Epoch 18/20\n",
            "88/88 [==============================] - 3s 30ms/step - loss: 5.8882 - accuracy: 0.0047\n",
            "Epoch 19/20\n",
            "88/88 [==============================] - 3s 30ms/step - loss: 5.8881 - accuracy: 0.0047\n",
            "Epoch 20/20\n",
            "88/88 [==============================] - 3s 31ms/step - loss: 5.8881 - accuracy: 0.0047\n",
            "CPU times: user 57.6 s, sys: 2.45 s, total: 1min\n",
            "Wall time: 1min 26s\n"
          ]
        },
        {
          "output_type": "execute_result",
          "data": {
            "text/plain": [
              "<keras.callbacks.History at 0x7f383c0d9e50>"
            ]
          },
          "metadata": {},
          "execution_count": 4
        }
      ],
      "source": [
        "%%time\n",
        "\n",
        "input_shape = (encoder.num_planes, go_board_rows, go_board_cols)\n",
        "model = Sequential()\n",
        "network_layers = large.layers(input_shape)\n",
        "for layer in network_layers:\n",
        "    model.add(layer)\n",
        "model.add(Dense(nb_classes, activation='softmax'))\n",
        "model.compile(loss='categorical_crossentropy', optimizer='adadelta', metrics=['accuracy'])\n",
        "model.fit(X, y, batch_size=128, epochs=20, verbose=1)"
      ]
    },
    {
      "cell_type": "markdown",
      "metadata": {
        "id": "7sOellDcldBv"
      },
      "source": [
        "Создание и сохранение агента DeepLearningAgent"
      ]
    },
    {
      "cell_type": "code",
      "execution_count": 5,
      "metadata": {
        "id": "9zuud5cOkV_f"
      },
      "outputs": [],
      "source": [
        "deep_learning_bot = DeepLearningAgent(model, encoder)\n",
        "h5file = h5py.File(\"./agents/sevenplane.h5\", \"w\")\n",
        "deep_learning_bot.serialize(h5file)\n",
        "h5file.close()"
      ]
    },
    {
      "cell_type": "code",
      "source": [
        "!cp ./agents/sevenplane.h5 ./drive/MyDrive/colab1/sevenplane.h5"
      ],
      "metadata": {
        "id": "rTavHgnzNz10"
      },
      "execution_count": 6,
      "outputs": []
    },
    {
      "cell_type": "markdown",
      "metadata": {
        "id": "RbI5VlClljqa"
      },
      "source": [
        "Загрузка бота обратно в память..."
      ]
    },
    {
      "cell_type": "code",
      "source": [
        "!mkdir ./agents/\n",
        "!cp ./drive/MyDrive/colab1/sevenplane.h5 ./agents/sevenplane.h5"
      ],
      "metadata": {
        "id": "ldKY_VwgFmcD"
      },
      "execution_count": 3,
      "outputs": []
    },
    {
      "cell_type": "code",
      "execution_count": 4,
      "metadata": {
        "id": "2zD66QMjkl0g"
      },
      "outputs": [],
      "source": [
        "# должен быть: GPU?\n",
        "model_file = h5py.File(\"./agents/sevenplane.h5\", \"r\")\n",
        "bot_from_file = load_prediction_agent(model_file)"
      ]
    },
    {
      "cell_type": "markdown",
      "metadata": {
        "id": "wM9gLOcMlrEb"
      },
      "source": [
        "...и его подключение к веб-приложению"
      ]
    },
    {
      "cell_type": "code",
      "execution_count": null,
      "metadata": {
        "id": "GAh_Xgx6lE4A",
        "colab": {
          "base_uri": "https://localhost:8080/"
        },
        "outputId": "a406645d-0e9d-41d0-cef2-d6948759c9ed"
      },
      "outputs": [
        {
          "output_type": "stream",
          "name": "stdout",
          "text": [
            " * Serving Flask app 'dlgo.httpfrontend.server'\n",
            " * Debug mode: off\n"
          ]
        },
        {
          "output_type": "stream",
          "name": "stderr",
          "text": [
            "INFO:werkzeug:\u001b[31m\u001b[1mWARNING: This is a development server. Do not use it in a production deployment. Use a production WSGI server instead.\u001b[0m\n",
            " * Running on http://127.0.0.1:5000\n",
            "INFO:werkzeug:\u001b[33mPress CTRL+C to quit\u001b[0m\n"
          ]
        }
      ],
      "source": [
        "web_app = get_web_app({'predict': bot_from_file})\n",
        "web_app.run()"
      ]
    }
  ],
  "metadata": {
    "colab": {
      "provenance": []
    },
    "gpuClass": "standard",
    "kernelspec": {
      "display_name": "Python 3",
      "name": "python3"
    },
    "language_info": {
      "name": "python"
    },
    "accelerator": "GPU"
  },
  "nbformat": 4,
  "nbformat_minor": 0
}