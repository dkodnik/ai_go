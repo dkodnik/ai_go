{
  "nbformat": 4,
  "nbformat_minor": 0,
  "metadata": {
    "colab": {
      "provenance": []
    },
    "kernelspec": {
      "name": "python3",
      "display_name": "Python 3"
    },
    "language_info": {
      "name": "python"
    },
    "gpuClass": "standard",
    "accelerator": "GPU"
  },
  "cells": [
    {
      "cell_type": "code",
      "source": [
        "!unzip -o dlgo.zip"
      ],
      "metadata": {
        "colab": {
          "base_uri": "https://localhost:8080/"
        },
        "id": "i3_bPcG35qcD",
        "outputId": "012c6ee2-5633-4aac-c2d9-fd63d843b0d6"
      },
      "execution_count": null,
      "outputs": [
        {
          "output_type": "stream",
          "name": "stdout",
          "text": [
            "Archive:  dlgo.zip\n",
            "   creating: dlgo/\n",
            "   creating: dlgo/agent/\n",
            "  inflating: dlgo/agent/base.py      \n",
            "  inflating: dlgo/agent/helpers.py   \n",
            "  inflating: dlgo/agent/naive.py     \n",
            "  inflating: dlgo/agent/predict.py   \n",
            " extracting: dlgo/agent/__init__.py  \n",
            "   creating: dlgo/agent/__pycache__/\n",
            "  inflating: dlgo/agent/__pycache__/base.cpython-310.pyc  \n",
            "  inflating: dlgo/agent/__pycache__/helpers.cpython-310.pyc  \n",
            "  inflating: dlgo/agent/__pycache__/naive.cpython-310.pyc  \n",
            "  inflating: dlgo/agent/__pycache__/predict.cpython-310.pyc  \n",
            "  inflating: dlgo/agent/__pycache__/__init__.cpython-310.pyc  \n",
            "   creating: dlgo/data/\n",
            "  inflating: dlgo/data/generator.py  \n",
            "  inflating: dlgo/data/index_processor.py  \n",
            "  inflating: dlgo/data/parallel_processor.py  \n",
            "  inflating: dlgo/data/processor.py  \n",
            "  inflating: dlgo/data/sampling.py   \n",
            "  inflating: dlgo/data/__init__.py   \n",
            "   creating: dlgo/data/__pycache__/\n",
            "  inflating: dlgo/data/__pycache__/index_processor.cpython-310.pyc  \n",
            "  inflating: dlgo/data/__pycache__/parallel_processor.cpython-310.pyc  \n",
            "  inflating: dlgo/data/__pycache__/__init__.cpython-310.pyc  \n",
            "   creating: dlgo/encoders/\n",
            "  inflating: dlgo/encoders/base.py   \n",
            "  inflating: dlgo/encoders/oneplane.py  \n",
            "  inflating: dlgo/encoders/sevenplane.py  \n",
            "  inflating: dlgo/encoders/simple.py  \n",
            " extracting: dlgo/encoders/__init__.py  \n",
            "   creating: dlgo/encoders/__pycache__/\n",
            "  inflating: dlgo/encoders/__pycache__/base.cpython-310.pyc  \n",
            "  inflating: dlgo/encoders/__pycache__/oneplane.cpython-310.pyc  \n",
            "  inflating: dlgo/encoders/__pycache__/__init__.cpython-310.pyc  \n",
            "  inflating: dlgo/goboard.py         \n",
            "  inflating: dlgo/goboard_slow.py    \n",
            "   creating: dlgo/gosgf/\n",
            "  inflating: dlgo/gosgf/sgf.py       \n",
            "  inflating: dlgo/gosgf/sgf_grammar.py  \n",
            "  inflating: dlgo/gosgf/sgf_properties.py  \n",
            " extracting: dlgo/gosgf/__init__.py  \n",
            "  inflating: dlgo/gotypes.py         \n",
            "   creating: dlgo/httpfrontend/\n",
            "  inflating: dlgo/httpfrontend/server.py  \n",
            "   creating: dlgo/httpfrontend/static/\n",
            "  inflating: dlgo/httpfrontend/static/iframeSizer.contentWindow.min.js  \n",
            "  inflating: dlgo/httpfrontend/static/jgoboard-latest.js  \n",
            "   creating: dlgo/httpfrontend/static/large/\n",
            " extracting: dlgo/httpfrontend/static/large/black.png  \n",
            "  inflating: dlgo/httpfrontend/static/large/board.js  \n",
            " extracting: dlgo/httpfrontend/static/large/shadow.png  \n",
            " extracting: dlgo/httpfrontend/static/large/shadow_dark.png  \n",
            "  inflating: dlgo/httpfrontend/static/large/shinkaya.jpg  \n",
            "  inflating: dlgo/httpfrontend/static/large/walnut.jpg  \n",
            " extracting: dlgo/httpfrontend/static/large/white.png  \n",
            "  inflating: dlgo/httpfrontend/static/play_mcts_55.html  \n",
            "  inflating: dlgo/httpfrontend/static/play_pg_99.html  \n",
            "  inflating: dlgo/httpfrontend/static/play_predict_19.html  \n",
            "  inflating: dlgo/httpfrontend/static/play_q_99.html  \n",
            "  inflating: dlgo/httpfrontend/static/play_random_99.html  \n",
            " extracting: dlgo/httpfrontend/__init__.py  \n",
            "   creating: dlgo/httpfrontend/__pycache__/\n",
            "  inflating: dlgo/httpfrontend/__pycache__/server.cpython-310.pyc  \n",
            "  inflating: dlgo/httpfrontend/__pycache__/__init__.cpython-310.pyc  \n",
            "  inflating: dlgo/kerasutil.py       \n",
            "   creating: dlgo/mcts/\n",
            "  inflating: dlgo/mcts/mcts.py       \n",
            "  inflating: dlgo/mcts/__init__.py   \n",
            "   creating: dlgo/mcts/__pycache__/\n",
            "  inflating: dlgo/mcts/__pycache__/mcts.cpython-310.pyc  \n",
            "  inflating: dlgo/mcts/__pycache__/__init__.cpython-310.pyc  \n",
            "   creating: dlgo/networks/\n",
            "  inflating: dlgo/networks/large.py  \n",
            "  inflating: dlgo/networks/small.py  \n",
            "  inflating: dlgo/scoring.py         \n",
            "  inflating: dlgo/utils.py           \n",
            "  inflating: dlgo/zobrist.py         \n",
            " extracting: dlgo/__init__.py        \n",
            "   creating: dlgo/__pycache__/\n",
            "  inflating: dlgo/__pycache__/goboard.cpython-310.pyc  \n",
            "  inflating: dlgo/__pycache__/gotypes.cpython-310.pyc  \n",
            "  inflating: dlgo/__pycache__/kerasutil.cpython-310.pyc  \n",
            "  inflating: dlgo/__pycache__/scoring.cpython-310.pyc  \n",
            "  inflating: dlgo/__pycache__/utils.cpython-310.pyc  \n",
            "  inflating: dlgo/__pycache__/zobrist.cpython-310.pyc  \n",
            "  inflating: dlgo/__pycache__/__init__.cpython-310.pyc  \n"
          ]
        }
      ]
    },
    {
      "cell_type": "markdown",
      "source": [
        "Загрузка признаков и меток с помощью обработчика данных"
      ],
      "metadata": {
        "id": "fh6JPTU-lIKB"
      }
    },
    {
      "cell_type": "code",
      "execution_count": null,
      "metadata": {
        "id": "yZr3J7jwh2-O"
      },
      "outputs": [],
      "source": [
        "import h5py\n",
        "\n",
        "from keras.models import Sequential\n",
        "from keras.layers import Dense\n",
        "\n",
        "from dlgo.agent.predict import DeepLearningAgent, load_prediction_agent\n",
        "from dlgo.data.parallel_processor import GoDataProcessor\n",
        "#from dlgo.data.processor import GoDataProcessor\n",
        "from dlgo.encoders.sevenplane import SevenPlaneEncoder\n",
        "from dlgo.networks import large\n",
        "\n",
        "from dlgo.httpfrontend import get_web_app"
      ]
    },
    {
      "cell_type": "code",
      "source": [
        "go_board_rows, go_board_cols = 19, 19\n",
        "nb_classes = go_board_rows * go_board_cols\n",
        "encoder = SevenPlaneEncoder((go_board_rows, go_board_cols))\n",
        "processor = GoDataProcessor(encoder=encoder.name())"
      ],
      "metadata": {
        "id": "rnc3ZGqPivtP"
      },
      "execution_count": null,
      "outputs": []
    },
    {
      "cell_type": "code",
      "source": [
        "%%time\n",
        "\n",
        "#X, y = processor.load_go_data(num_samples=100)\n",
        "X, y = processor.load_go_data_npy()"
      ],
      "metadata": {
        "colab": {
          "base_uri": "https://localhost:8080/"
        },
        "id": "NcF0gf1DSLFh",
        "outputId": "570d4225-edf8-4210-aacf-3c6277a36a8a"
      },
      "execution_count": null,
      "outputs": [
        {
          "output_type": "stream",
          "name": "stdout",
          "text": [
            "CPU times: user 1.57 ms, sys: 50 ms, total: 51.6 ms\n",
            "Wall time: 51.8 ms\n"
          ]
        }
      ]
    },
    {
      "cell_type": "markdown",
      "source": [
        "Создание и запуск модели для предсказания ходов с использованием оптимизатора Adadelta"
      ],
      "metadata": {
        "id": "CrcEzQSBlREC"
      }
    },
    {
      "cell_type": "code",
      "source": [
        "%%time\n",
        "\n",
        "input_shape = (encoder.num_planes, go_board_rows, go_board_cols)\n",
        "model = Sequential()\n",
        "network_layers = large.layers(input_shape)\n",
        "for layer in network_layers:\n",
        "    model.add(layer)\n",
        "model.add(Dense(nb_classes, activation='softmax'))\n",
        "model.compile(loss='categorical_crossentropy', optimizer='adadelta', metrics=['accuracy'])\n",
        "model.fit(X, y, batch_size=128, epochs=20, verbose=1)"
      ],
      "metadata": {
        "colab": {
          "base_uri": "https://localhost:8080/"
        },
        "id": "gl1o0mT1jUR4",
        "outputId": "7b5b47ab-c5f5-4067-8b67-d36271876185"
      },
      "execution_count": null,
      "outputs": [
        {
          "output_type": "stream",
          "name": "stdout",
          "text": [
            "Epoch 1/20\n",
            "88/88 [==============================] - 9s 30ms/step - loss: 5.8890 - accuracy: 0.0029\n",
            "Epoch 2/20\n",
            "88/88 [==============================] - 3s 30ms/step - loss: 5.8890 - accuracy: 0.0033\n",
            "Epoch 3/20\n",
            "88/88 [==============================] - 3s 30ms/step - loss: 5.8889 - accuracy: 0.0036\n",
            "Epoch 4/20\n",
            "88/88 [==============================] - 3s 30ms/step - loss: 5.8889 - accuracy: 0.0037\n",
            "Epoch 5/20\n",
            "88/88 [==============================] - 3s 30ms/step - loss: 5.8888 - accuracy: 0.0038\n",
            "Epoch 6/20\n",
            "88/88 [==============================] - 3s 31ms/step - loss: 5.8888 - accuracy: 0.0043\n",
            "Epoch 7/20\n",
            "88/88 [==============================] - 3s 30ms/step - loss: 5.8888 - accuracy: 0.0042\n",
            "Epoch 8/20\n",
            "88/88 [==============================] - 3s 30ms/step - loss: 5.8887 - accuracy: 0.0044\n",
            "Epoch 9/20\n",
            "88/88 [==============================] - 3s 30ms/step - loss: 5.8887 - accuracy: 0.0044\n",
            "Epoch 10/20\n",
            "88/88 [==============================] - 3s 30ms/step - loss: 5.8887 - accuracy: 0.0044\n",
            "Epoch 11/20\n",
            "88/88 [==============================] - 3s 31ms/step - loss: 5.8886 - accuracy: 0.0044\n",
            "Epoch 12/20\n",
            "88/88 [==============================] - 3s 30ms/step - loss: 5.8886 - accuracy: 0.0044\n",
            "Epoch 13/20\n",
            "88/88 [==============================] - 3s 31ms/step - loss: 5.8886 - accuracy: 0.0044\n",
            "Epoch 14/20\n",
            "88/88 [==============================] - 3s 31ms/step - loss: 5.8885 - accuracy: 0.0045\n",
            "Epoch 15/20\n",
            "88/88 [==============================] - 3s 31ms/step - loss: 5.8885 - accuracy: 0.0045\n",
            "Epoch 16/20\n",
            "88/88 [==============================] - 3s 31ms/step - loss: 5.8885 - accuracy: 0.0044\n",
            "Epoch 17/20\n",
            "88/88 [==============================] - 3s 31ms/step - loss: 5.8884 - accuracy: 0.0044\n",
            "Epoch 18/20\n",
            "88/88 [==============================] - 3s 31ms/step - loss: 5.8884 - accuracy: 0.0044\n",
            "Epoch 19/20\n",
            "88/88 [==============================] - 3s 31ms/step - loss: 5.8884 - accuracy: 0.0047\n",
            "Epoch 20/20\n",
            "88/88 [==============================] - 3s 32ms/step - loss: 5.8883 - accuracy: 0.0047\n",
            "CPU times: user 58.3 s, sys: 1.66 s, total: 59.9 s\n",
            "Wall time: 1min\n"
          ]
        },
        {
          "output_type": "execute_result",
          "data": {
            "text/plain": [
              "<keras.callbacks.History at 0x7f85658f3e80>"
            ]
          },
          "metadata": {},
          "execution_count": 5
        }
      ]
    },
    {
      "cell_type": "markdown",
      "source": [
        "Создание и сохранение агента DeepLearningAgent"
      ],
      "metadata": {
        "id": "7sOellDcldBv"
      }
    },
    {
      "cell_type": "code",
      "source": [
        "deep_learning_bot = DeepLearningAgent(model, encoder)\n",
        "h5file = h5py.File(\"./agents/deep_bot.h5\", \"w\")\n",
        "deep_learning_bot.serialize(h5file)"
      ],
      "metadata": {
        "colab": {
          "base_uri": "https://localhost:8080/"
        },
        "id": "9zuud5cOkV_f",
        "outputId": "32dee704-30f8-44ee-c087-37778cd5d729"
      },
      "execution_count": null,
      "outputs": [
        {
          "output_type": "stream",
          "name": "stdout",
          "text": [
            ">>>> /tmp/tmp-kerasmodelazr8xlwo.h5\n"
          ]
        }
      ]
    },
    {
      "cell_type": "code",
      "source": [
        "#import h5py\n",
        "#from dlgo import kerasutil\n",
        "#deep_learning_bot = DeepLearningAgent(model, encoder)\n",
        "#h5file = h5py.File(\"./deep_bot.h5\", \"w\")\n",
        "#h5file.create_group('encoder')\n",
        "#h5file['encoder'].attrs['name'] = deep_learning_bot.encoder.name()\n",
        "#h5file['encoder'].attrs['board_width'] = deep_learning_bot.encoder.board_width\n",
        "#h5file['encoder'].attrs['board_height'] = deep_learning_bot.encoder.board_height\n",
        "#h5file.create_group('model')\n",
        "#kerasutil.save_model_to_hdf5_group(deep_learning_bot.model, h5file['model'])"
      ],
      "metadata": {
        "id": "xe9i_Zq04GE1"
      },
      "execution_count": null,
      "outputs": []
    },
    {
      "cell_type": "markdown",
      "source": [
        "Загрузка бота обратно в память..."
      ],
      "metadata": {
        "id": "RbI5VlClljqa"
      }
    },
    {
      "cell_type": "code",
      "source": [
        "model_file = h5py.File(\"./agents/deep_bot.h5\", \"r\")\n",
        "bot_from_file = load_prediction_agent(model_file)"
      ],
      "metadata": {
        "id": "2zD66QMjkl0g"
      },
      "execution_count": null,
      "outputs": []
    },
    {
      "cell_type": "markdown",
      "source": [
        "...и его подключение к веб-приложению"
      ],
      "metadata": {
        "id": "wM9gLOcMlrEb"
      }
    },
    {
      "cell_type": "code",
      "source": [
        "#web_app = get_web_app({'predict': bot_from_file})\n",
        "#web_app.run()"
      ],
      "metadata": {
        "id": "GAh_Xgx6lE4A"
      },
      "execution_count": null,
      "outputs": []
    }
  ]
}